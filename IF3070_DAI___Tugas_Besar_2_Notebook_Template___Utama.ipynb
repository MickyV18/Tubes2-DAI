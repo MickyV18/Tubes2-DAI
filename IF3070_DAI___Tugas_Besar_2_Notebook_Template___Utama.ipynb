{
 "cells": [
  {
   "cell_type": "markdown",
   "metadata": {
    "id": "uR1JW69eLfG_"
   },
   "source": [
    "# IF3070 Foundations of Artificial Intelligence | Tugas Besar 2\n",
    "\n",
    "This notebook serves as a template for the assignment. Please create a copy of this notebook to complete your work. You can add more code blocks, markdown blocks, or new sections if needed.\n"
   ]
  },
  {
   "cell_type": "markdown",
   "metadata": {
    "id": "ucbaI5rBLtjJ"
   },
   "source": [
    "Group Number: 13\n",
    "\n",
    "Group Members:\n",
    "- Jonathan Wiguna (18222019)\n",
    "- Naomi Pricilla Agustine(18222065)\n",
    "- Harry Truman Salim (18222081)\n",
    "- Micky Valentino(18222093)"
   ]
  },
  {
   "cell_type": "markdown",
   "metadata": {
    "id": "GwzsfETHLfHA"
   },
   "source": [
    "## Import Libraries"
   ]
  },
  {
   "cell_type": "code",
   "execution_count": 16,
   "metadata": {
    "id": "jZJU5W_4LfHB"
   },
   "outputs": [],
   "source": [
    "import pandas as pd\n",
    "import numpy as np\n",
    "import matplotlib.pyplot as plt\n",
    "import seaborn as sns\n",
    "import plotly.express as px\n",
    "import scipy.stats as stats\n",
    "from sklearn.model_selection import train_test_split\n",
    "from sklearn.impute import SimpleImputer\n",
    "from sklearn.preprocessing import StandardScaler, MinMaxScaler\n",
    "from sklearn.neighbors import KNeighborsClassifier\n",
    "from sklearn.naive_bayes import GaussianNB\n",
    "from sklearn.metrics import accuracy_score, precision_score, recall_score, f1_score\n",
    "import re"
   ]
  },
  {
   "cell_type": "markdown",
   "metadata": {
    "id": "OKbjLIdYLfHC"
   },
   "source": [
    "## Import Dataset"
   ]
  },
  {
   "cell_type": "code",
   "execution_count": null,
   "metadata": {
    "colab": {
     "base_uri": "https://localhost:8080/",
     "height": 255
    },
    "id": "-IWFJ-gdLfHD",
    "outputId": "99c7d8d9-1c4c-414a-c405-19b36f6e0e26"
   },
   "outputs": [],
   "source": [
    "df = pd.read_csv('https://drive.google.com/uc?id=1KJsJrbObEun6NRme9jMIjX8SyIeuTY5M')\n",
    "df.head()"
   ]
  },
  {
   "cell_type": "code",
   "execution_count": null,
   "metadata": {},
   "outputs": [],
   "source": [
    "df.describe()"
   ]
  },
  {
   "cell_type": "code",
   "execution_count": null,
   "metadata": {},
   "outputs": [],
   "source": [
    "df.info()"
   ]
  },
  {
   "cell_type": "code",
   "execution_count": 33,
   "metadata": {},
   "outputs": [],
   "source": [
    "df = df.drop(columns=['FILENAME'])\n"
   ]
  },
  {
   "cell_type": "code",
   "execution_count": 6,
   "metadata": {},
   "outputs": [],
   "source": [
    "# pemisahan fitur yang bertipe kategori dan non-kategori agar dianalisis dengan pendekatan yang berbeda\n",
    "categorical = ['TLD',  'Title', 'Domain','URL',  'IsDomainIP', 'HasObfuscation', 'IsHTTPS', 'HasTitle', 'HasFavicon', 'Robots', 'IsResponsive', 'HasDescription', 'HasExternalFormSubmit', 'HasSocialNet', 'HasSubmitButton', 'HasHiddenFields', 'HasPasswordField', 'Bank', 'Pay', 'Crypto', 'HasCopyrightInfo']\n",
    "\n",
    "non_categorical = [col for col in df.columns if col not in categorical]"
   ]
  },
  {
   "cell_type": "markdown",
   "metadata": {
    "id": "gvx-gT3bLfHM"
   },
   "source": [
    "# 1. Split Training Set and Validation Set\n",
    "\n",
    "Splitting the training and validation set works as an early diagnostic towards the performance of the model we train. This is done before the preprocessing steps to **avoid data leakage inbetween the sets**. If you want to use k-fold cross-validation, split the data later and do the cleaning and preprocessing separately for each split.\n",
    "\n",
    "Note: For training, you should use the data contained in the `train` folder given by the TA. The `test` data is only used for kaggle submission."
   ]
  },
  {
   "cell_type": "code",
   "execution_count": 18,
   "metadata": {
    "id": "4yWCUFFBLfHM"
   },
   "outputs": [],
   "source": [
    "# Split training set and validation set here, store into variables train_set and val_set.\n",
    "# Remember to also keep the original training set before splitting. This will come important later.\n",
    "# train_set, val_set = ...\n",
    "train_set, val_set = train_test_split(df, test_size=0.3, random_state=42)"
   ]
  },
  {
   "cell_type": "code",
   "execution_count": null,
   "metadata": {
    "colab": {
     "base_uri": "https://localhost:8080/",
     "height": 443
    },
    "id": "qjnOCJEL-h2s",
    "outputId": "d397aae1-bd11-4a21-e576-154553aea095"
   },
   "outputs": [],
   "source": [
    "train_set"
   ]
  },
  {
   "cell_type": "code",
   "execution_count": null,
   "metadata": {
    "colab": {
     "base_uri": "https://localhost:8080/",
     "height": 461
    },
    "id": "P_--5lrW-j67",
    "outputId": "ff051394-2b77-4029-c485-9e7de624f580"
   },
   "outputs": [],
   "source": [
    "val_set"
   ]
  },
  {
   "cell_type": "markdown",
   "metadata": {
    "id": "IC14lmo_LfHN"
   },
   "source": [
    "# 2. Data Cleaning and Preprocessing\n",
    "\n",
    "This step is the first thing to be done once a Data Scientist have grasped a general knowledge of the data. Raw data is **seldom ready for training**, therefore steps need to be taken to clean and format the data for the Machine Learning model to interpret.\n",
    "\n",
    "By performing data cleaning and preprocessing, you ensure that your dataset is ready for model training, leading to more accurate and reliable machine learning results. These steps are essential for transforming raw data into a format that machine learning algorithms can effectively learn from and make predictions.\n",
    "\n",
    "We will give some common methods for you to try, but you only have to **at least implement one method for each process**. For each step that you will do, **please explain the reason why did you do that process. Write it in a markdown cell under the code cell you wrote.**"
   ]
  },
  {
   "cell_type": "markdown",
   "metadata": {
    "id": "p95_A8hSLfHY"
   },
   "source": [
    "## A. Data Cleaning\n",
    "\n",
    "**Data cleaning** is the crucial first step in preparing your dataset for machine learning. Raw data collected from various sources is often messy and may contain errors, missing values, and inconsistencies. Data cleaning involves the following steps:\n",
    "\n",
    "1. **Handling Missing Data:** Identify and address missing values in the dataset. This can include imputing missing values, removing rows or columns with excessive missing data, or using more advanced techniques like interpolation.\n",
    "\n",
    "2. **Dealing with Outliers:** Identify and handle outliers, which are data points significantly different from the rest of the dataset. Outliers can be removed or transformed to improve model performance.\n",
    "\n",
    "3. **Data Validation:** Check for data integrity and consistency. Ensure that data types are correct, categorical variables have consistent labels, and numerical values fall within expected ranges.\n",
    "\n",
    "4. **Removing Duplicates:** Identify and remove duplicate rows, as they can skew the model's training process and evaluation metrics.\n",
    "\n",
    "5. **Feature Engineering**: Create new features or modify existing ones to extract relevant information. This step can involve scaling, normalizing, or encoding features for better model interpretability."
   ]
  },
  {
   "cell_type": "markdown",
   "metadata": {
    "id": "_wruGao9LfHZ"
   },
   "source": [
    "### I. Handling Missing Data\n",
    "\n",
    "Missing data can adversely affect the performance and accuracy of machine learning models. There are several strategies to handle missing data in machine learning:\n",
    "\n",
    "1. **Data Imputation:**\n",
    "\n",
    "    a. **Mean, Median, or Mode Imputation:** For numerical features, you can replace missing values with the mean, median, or mode of the non-missing values in the same feature. This method is simple and often effective when data is missing at random.\n",
    "\n",
    "    b. **Constant Value Imputation:** You can replace missing values with a predefined constant value (e.g., 0) if it makes sense for your dataset and problem.\n",
    "\n",
    "    c. **Imputation Using Predictive Models:** More advanced techniques involve using predictive models to estimate missing values. For example, you can train a regression model to predict missing numerical values or a classification model to predict missing categorical values.\n",
    "\n",
    "2. **Deletion of Missing Data:**\n",
    "\n",
    "    a. **Listwise Deletion:** In cases where the amount of missing data is relatively small, you can simply remove rows with missing values from your dataset. However, this approach can lead to a loss of valuable information.\n",
    "\n",
    "    b. **Column (Feature) Deletion:** If a feature has a large number of missing values and is not critical for your analysis, you can consider removing that feature altogether.\n",
    "\n",
    "3. **Domain-Specific Strategies:**\n",
    "\n",
    "    a. **Domain Knowledge:** In some cases, domain knowledge can guide the imputation process. For example, if you know that missing values are related to a specific condition, you can impute them accordingly.\n",
    "\n",
    "4. **Imputation Libraries:**\n",
    "\n",
    "    a. **Scikit-Learn:** Scikit-Learn provides a `SimpleImputer` class that can handle basic imputation strategies like mean, median, and mode imputation.\n",
    "\n",
    "    b. **Fancyimpute:** Fancyimpute is a Python library that offers more advanced imputation techniques, including matrix factorization, k-nearest neighbors, and deep learning-based methods.\n",
    "\n",
    "The choice of imputation method should be guided by the nature of your data, the amount of missing data, the problem you are trying to solve, and the assumptions you are willing to make."
   ]
  },
  {
   "cell_type": "markdown",
   "metadata": {},
   "source": [
    "Identify Missing Values"
   ]
  },
  {
   "cell_type": "code",
   "execution_count": null,
   "metadata": {},
   "outputs": [],
   "source": [
    "# Identifikasi missing values\n",
    "print(\"Jumlah missing values:\")\n",
    "print(df.isnull().sum())\n",
    "print()\n",
    "\n",
    "# Menghitung persentase missing values\n",
    "missing_percent = (df.isnull().sum() / len(df)) * 100\n",
    "print(\"Persentase missing values:\")\n",
    "print(missing_percent)"
   ]
  },
  {
   "cell_type": "markdown",
   "metadata": {},
   "source": [
    "Data Imputation"
   ]
  },
  {
   "cell_type": "code",
   "execution_count": null,
   "metadata": {
    "id": "ucZNfCkiLfHZ"
   },
   "outputs": [],
   "source": [
    "# Tangani categorical columns terlebih dahulu\n",
    "categorical_cols = ['URL', 'Domain', 'TLD', 'FILENAME']\n",
    "for col in categorical_cols:\n",
    "    if col in train_set.columns:\n",
    "        most_frequent = train_set[col].mode()[0]\n",
    "        train_set[col] = train_set[col].fillna(most_frequent)\n",
    "\n",
    "# Proses URL-based features\n",
    "if 'URL' in train_set.columns:\n",
    "    # Update URLLength berdasarkan URL yang ada\n",
    "    mask = train_set['URL'].notna()\n",
    "    train_set.loc[mask, 'URLLength'] = train_set.loc[mask, 'URL'].str.len()\n",
    "    \n",
    "    # Update letter dan digit counts berdasarkan URL yang ada\n",
    "    train_set.loc[mask, 'NoOfLettersInURL'] = train_set.loc[mask, 'URL'].str.count('[a-zA-Z]')\n",
    "    train_set.loc[mask, 'NoOfDegitsInURL'] = train_set.loc[mask, 'URL'].str.count('[0-9]')\n",
    "    train_set.loc[mask, 'NoOfEqualsInURL'] = train_set.loc[mask, 'URL'].str.count('=')\n",
    "    train_set.loc[mask, 'NoOfQMarkInURL'] = train_set.loc[mask, 'URL'].str.count('\\?')\n",
    "    train_set.loc[mask, 'NoOfAmpersandInURL'] = train_set.loc[mask, 'URL'].str.count('&')\n",
    "    \n",
    "    special_chars_pattern = '[^a-zA-Z0-9=?&]'\n",
    "    train_set.loc[mask, 'NoOfOtherSpecialCharsInURL'] = train_set.loc[mask, 'URL'].str.count(special_chars_pattern)\n",
    "\n",
    "# Proses Domain-based features\n",
    "if 'Domain' in train_set.columns:\n",
    "    # Update DomainLength berdasarkan Domain yang ada\n",
    "    mask = train_set['Domain'].notna()\n",
    "    train_set.loc[mask, 'DomainLength'] = train_set.loc[mask, 'Domain'].str.len()\n",
    "    \n",
    "    # Update IsDomainIP berdasarkan Domain yang ada\n",
    "    train_set.loc[mask, 'IsDomainIP'] = train_set.loc[mask, 'Domain'].apply(\n",
    "        lambda x: bool(re.match(r'^(?:[0-9]{1,3}\\.){3}[0-9]{1,3}$', str(x))))\n",
    "    \n",
    "    # Update NoOfSubDomain berdasarkan Domain yang ada\n",
    "    train_set.loc[mask, 'NoOfSubDomain'] = train_set.loc[mask, 'Domain'].str.count('\\.')\n",
    "\n",
    "# Proses TLD-based features\n",
    "if 'TLD' in train_set.columns:\n",
    "    mask = train_set['TLD'].notna()\n",
    "    train_set.loc[mask, 'TLDLength'] = train_set.loc[mask, 'TLD'].str.len()\n",
    "\n",
    "# Isi missing values yang tersisa\n",
    "boolean_cols = ['IsDomainIP', 'HasObfuscation', 'IsHTTPS', 'HasTitle',\n",
    "                'HasFavicon', 'IsResponsive', 'HasDescription',\n",
    "                'HasExternalFormSubmit', 'HasSocialNet', 'HasSubmitButton',\n",
    "                'HasHiddenFields', 'HasPasswordField', 'HasCopyrightInfo']\n",
    "\n",
    "count_cols = ['NoOfSubDomain', 'NoOfObfuscatedChar', 'NoOfLettersInURL',\n",
    "              'NoOfDegitsInURL', 'NoOfEqualsInURL', 'NoOfQMarkInURL', \n",
    "              'NoOfAmpersandInURL', 'NoOfOtherSpecialCharsInURL',\n",
    "              'NoOfURLRedirect', 'NoOfSelfRedirect', 'NoOfPopup',\n",
    "              'NoOfiFrame', 'NoOfImage', 'NoOfCSS', 'NoOfJS',\n",
    "              'NoOfSelfRef', 'NoOfEmptyRef', 'NoOfExternalRef']\n",
    "\n",
    "# Handle missing values sisanya\n",
    "for col in boolean_cols:\n",
    "    if col in train_set.columns and train_set[col].isnull().any():\n",
    "        train_set[col] = train_set[col].fillna(train_set[col].mode()[0])\n",
    "\n",
    "for col in count_cols:\n",
    "    if col in train_set.columns and train_set[col].isnull().any():\n",
    "        train_set[col] = train_set[col].fillna(train_set[col].median())\n",
    "\n",
    "# Handle remaining numerical columns\n",
    "numerical_cols = train_set.select_dtypes(include=['float64', 'int64']).columns\n",
    "remaining_cols = [col for col in numerical_cols if col not in boolean_cols + count_cols]\n",
    "for col in remaining_cols:\n",
    "    if train_set[col].isnull().any():\n",
    "        train_set[col] = train_set[col].fillna(train_set[col].median())\n",
    "\n",
    "print(\"\\nJumlah missing values setelah diisi:\")\n",
    "print(train_set.isnull().sum())"
   ]
  },
  {
   "cell_type": "code",
   "execution_count": null,
   "metadata": {},
   "outputs": [],
   "source": [
    "# Tangani categorical columns terlebih dahulu\n",
    "categorical_cols = ['URL', 'Domain', 'TLD', 'FILENAME']\n",
    "for col in categorical_cols:\n",
    "    if col in val_set.columns:\n",
    "        most_frequent = val_set[col].mode()[0]\n",
    "        val_set[col] = val_set[col].fillna(most_frequent)\n",
    "\n",
    "# Proses URL-based features\n",
    "if 'URL' in val_set.columns:\n",
    "    # Update URLLength berdasarkan URL yang ada\n",
    "    mask = val_set['URL'].notna()\n",
    "    val_set.loc[mask, 'URLLength'] = val_set.loc[mask, 'URL'].str.len()\n",
    "    \n",
    "    # Update letter dan digit counts berdasarkan URL yang ada\n",
    "    val_set.loc[mask, 'NoOfLettersInURL'] = val_set.loc[mask, 'URL'].str.count('[a-zA-Z]')\n",
    "    val_set.loc[mask, 'NoOfDegitsInURL'] = val_set.loc[mask, 'URL'].str.count('[0-9]')\n",
    "    val_set.loc[mask, 'NoOfEqualsInURL'] = val_set.loc[mask, 'URL'].str.count('=')\n",
    "    val_set.loc[mask, 'NoOfQMarkInURL'] = val_set.loc[mask, 'URL'].str.count('\\?')\n",
    "    val_set.loc[mask, 'NoOfAmpersandInURL'] = val_set.loc[mask, 'URL'].str.count('&')\n",
    "    \n",
    "    special_chars_pattern = '[^a-zA-Z0-9=?&]'\n",
    "    val_set.loc[mask, 'NoOfOtherSpecialCharsInURL'] = val_set.loc[mask, 'URL'].str.count(special_chars_pattern)\n",
    "\n",
    "# Proses Domain-based features\n",
    "if 'Domain' in val_set.columns:\n",
    "    # Update DomainLength berdasarkan Domain yang ada\n",
    "    mask = val_set['Domain'].notna()\n",
    "    val_set.loc[mask, 'DomainLength'] = val_set.loc[mask, 'Domain'].str.len()\n",
    "    \n",
    "    # Update IsDomainIP berdasarkan Domain yang ada\n",
    "    val_set.loc[mask, 'IsDomainIP'] = val_set.loc[mask, 'Domain'].apply(\n",
    "        lambda x: bool(re.match(r'^(?:[0-9]{1,3}\\.){3}[0-9]{1,3}$', str(x))))\n",
    "    \n",
    "    # Update NoOfSubDomain berdasarkan Domain yang ada\n",
    "    val_set.loc[mask, 'NoOfSubDomain'] = val_set.loc[mask, 'Domain'].str.count('\\.')\n",
    "\n",
    "# Proses TLD-based features\n",
    "if 'TLD' in val_set.columns:\n",
    "    mask = val_set['TLD'].notna()\n",
    "    val_set.loc[mask, 'TLDLength'] = val_set.loc[mask, 'TLD'].str.len()\n",
    "\n",
    "# Isi missing values yang tersisa\n",
    "boolean_cols = ['IsDomainIP', 'HasObfuscation', 'IsHTTPS', 'HasTitle',\n",
    "                'HasFavicon', 'IsResponsive', 'HasDescription',\n",
    "                'HasExternalFormSubmit', 'HasSocialNet', 'HasSubmitButton',\n",
    "                'HasHiddenFields', 'HasPasswordField', 'HasCopyrightInfo']\n",
    "\n",
    "count_cols = ['NoOfSubDomain', 'NoOfObfuscatedChar', 'NoOfLettersInURL',\n",
    "              'NoOfDegitsInURL', 'NoOfEqualsInURL', 'NoOfQMarkInURL', \n",
    "              'NoOfAmpersandInURL', 'NoOfOtherSpecialCharsInURL',\n",
    "              'NoOfURLRedirect', 'NoOfSelfRedirect', 'NoOfPopup',\n",
    "              'NoOfiFrame', 'NoOfImage', 'NoOfCSS', 'NoOfJS',\n",
    "              'NoOfSelfRef', 'NoOfEmptyRef', 'NoOfExternalRef']\n",
    "\n",
    "# Handle missing values sisanya\n",
    "for col in boolean_cols:\n",
    "    if col in val_set.columns and val_set[col].isnull().any():\n",
    "        val_set[col] = val_set[col].fillna(val_set[col].mode()[0])\n",
    "\n",
    "for col in count_cols:\n",
    "    if col in val_set.columns and val_set[col].isnull().any():\n",
    "        val_set[col] = val_set[col].fillna(val_set[col].median())\n",
    "\n",
    "# Handle remaining numerical columns\n",
    "numerical_cols = val_set.select_dtypes(include=['float64', 'int64']).columns\n",
    "remaining_cols = [col for col in numerical_cols if col not in boolean_cols + count_cols]\n",
    "for col in remaining_cols:\n",
    "    if val_set[col].isnull().any():\n",
    "        val_set[col] = val_set[col].fillna(val_set[col].median())\n",
    "\n",
    "print(\"\\nJumlah missing values setelah diisi:\")\n",
    "print(val_set.isnull().sum())"
   ]
  },
  {
   "cell_type": "code",
   "execution_count": null,
   "metadata": {},
   "outputs": [],
   "source": [
    "df.describe()"
   ]
  },
  {
   "cell_type": "markdown",
   "metadata": {
    "id": "zgrSMcK75VY_"
   },
   "source": [
    "### II. Dealing with Outliers\n",
    "\n",
    "Outliers are data points that significantly differ from the majority of the data. They can be unusually high or low values that do not fit the pattern of the rest of the dataset. Outliers can significantly impact model performance, so it is important to handle them properly.\n",
    "\n",
    "Some methods to handle outliers:\n",
    "1. **Imputation**: Replace with mean, median, or a boundary value.\n",
    "2. **Clipping**: Cap values to upper and lower limits.\n",
    "3. **Transformation**: Use log, square root, or power transformations to reduce their influence.\n",
    "4. **Model-Based**: Use algorithms robust to outliers (e.g., tree-based models, Huber regression)."
   ]
  },
  {
   "cell_type": "code",
   "execution_count": null,
   "metadata": {},
   "outputs": [],
   "source": [
    "import pandas as pd\n",
    "import numpy as np\n",
    "\n",
    "# Misalkan val_set adalah DataFrame Anda dan non_categorical adalah daftar kolom non-kategorikal\n",
    "threshold_percentage = 0.03  # Batas maksimal 3% outlier\n",
    "\n",
    "outlier = True\n",
    "while outlier:\n",
    "    change = False\n",
    "    for col in non_categorical:\n",
    "        if val_set[col].skew() > 1 or val_set[col].skew() < -1:\n",
    "            # Menggunakan IQR untuk mendeteksi outlier\n",
    "            Q1 = val_set[col].quantile(0.25)\n",
    "            Q3 = val_set[col].quantile(0.75)\n",
    "            IQR = Q3 - Q1\n",
    "            # Mendapatkan indeks outlier\n",
    "            outlier_indices = val_set[(val_set[col] < Q1 - 1.5 * IQR) | (val_set[col] > Q3 + 1.5 * IQR)].index\n",
    "        else:\n",
    "            # Menggunakan z-score untuk mendeteksi outlier\n",
    "            z_scores = np.abs((val_set[col] - val_set[col].mean()) / val_set[col].std())\n",
    "            outlier_indices = val_set[z_scores > 3].index\n",
    "        \n",
    "        # Hitung persentase outlier\n",
    "        outlier_percentage = len(outlier_indices) / len(val_set)\n",
    "        if 0 < outlier_percentage < threshold_percentage:\n",
    "            val_set = val_set.drop(outlier_indices)\n",
    "            change = True\n",
    "        elif outlier_percentage > threshold_percentage:\n",
    "            Q1 = val_set[col].quantile(0.25)\n",
    "            Q3 = val_set[col].quantile(0.75)\n",
    "            IQR = Q3 - Q1\n",
    "            lower_bound = Q1 - 1.5 * IQR\n",
    "            upper_bound = Q3 + 1.5 * IQR\n",
    "\n",
    "            val_set[col] = np.where(val_set[col] < lower_bound, lower_bound, val_set[col])\n",
    "            val_set[col] = np.where(val_set[col] > upper_bound, upper_bound, val_set[col])\n",
    "\n",
    "    print (change)\n",
    "    if not(change):\n",
    "        outlier = False\n",
    "\n",
    "    # Reset index setelah penghapusan outlier\n",
    "    val_set.reset_index(drop=True, inplace=True)\n"
   ]
  },
  {
   "cell_type": "code",
   "execution_count": null,
   "metadata": {},
   "outputs": [],
   "source": [
    "import pandas as pd\n",
    "import numpy as np\n",
    "\n",
    "# Misalkan train_set adalah DataFrame Anda dan non_categorical adalah daftar kolom non-kategorikal\n",
    "threshold_percentage = 0.03  # Batas maksimal 3% outlier\n",
    "outlier = True\n",
    "while outlier:\n",
    "    change = False\n",
    "    for col in non_categorical:\n",
    "        if train_set[col].skew() > 1 or train_set[col].skew() < -1:\n",
    "            # Menggunakan IQR untuk mendeteksi outlier\n",
    "            Q1 = train_set[col].quantile(0.25)\n",
    "            Q3 = train_set[col].quantile(0.75)\n",
    "            IQR = Q3 - Q1\n",
    "            # Mendapatkan indeks outlier\n",
    "            outlier_indices = train_set[(train_set[col] < Q1 - 1.5 * IQR) | (train_set[col] > Q3 + 1.5 * IQR)].index\n",
    "        else:\n",
    "            # Menggunakan z-score untuk mendeteksi outlier\n",
    "            z_scores = np.abs((train_set[col] - train_set[col].mean()) / train_set[col].std())\n",
    "            outlier_indices = train_set[z_scores > 3].index\n",
    "        \n",
    "        # Hitung persentase outlier\n",
    "        outlier_percentage = len(outlier_indices) / len(train_set)\n",
    "        if 0 < outlier_percentage < threshold_percentage:\n",
    "            train_set = train_set.drop(outlier_indices)\n",
    "            change = True\n",
    "        elif outlier_percentage > threshold_percentage:\n",
    "            Q1 = train_set[col].quantile(0.25)\n",
    "            Q3 = train_set[col].quantile(0.75)\n",
    "            IQR = Q3 - Q1\n",
    "            lower_bound = Q1 - 1.5 * IQR\n",
    "            upper_bound = Q3 + 1.5 * IQR\n",
    "\n",
    "            train_set[col] = np.where(train_set[col] < lower_bound, lower_bound, train_set[col])\n",
    "            train_set[col] = np.where(train_set[col] > upper_bound, upper_bound, train_set[col])\n",
    "\n",
    "    print (change)\n",
    "    if not(change):\n",
    "        outlier = False\n",
    "\n",
    "    # Reset index setelah penghapusan outlier\n",
    "    train_set.reset_index(drop=True, inplace=True)\n"
   ]
  },
  {
   "cell_type": "code",
   "execution_count": null,
   "metadata": {},
   "outputs": [],
   "source": [
    "for col in non_categorical:\n",
    "    if train_set[col].skew() > 1 or train_set[col].skew() < -1:\n",
    "        # Menggunakan IQR untuk mendeteksi outlier\n",
    "        Q1 = train_set[col].quantile(0.25)\n",
    "        Q3 = train_set[col].quantile(0.75)\n",
    "        IQR = Q3 - Q1\n",
    "        # Mendapatkan indeks outlier\n",
    "        outlier_indices = train_set[(train_set[col] < Q1 - 1.5 * IQR) | (train_set[col] > Q3 + 1.5 * IQR)].index\n",
    "    else:\n",
    "        # Menggunakan z-score untuk mendeteksi outlier\n",
    "        z_scores = np.abs((train_set[col] - train_set[col].mean()) / train_set[col].std())\n",
    "        outlier_indices = train_set[z_scores > 3].index\n",
    "    \n",
    "    # Hitung persentase outlier\n",
    "    outlier_percentage = len(outlier_indices) / len(train_set) * 100\n",
    "\n",
    "    print (outlier_percentage)"
   ]
  },
  {
   "cell_type": "code",
   "execution_count": null,
   "metadata": {},
   "outputs": [],
   "source": [
    "for col in non_categorical:\n",
    "    if val_set[col].skew() > 1 or val_set[col].skew() < -1:\n",
    "        # Menggunakan IQR untuk mendeteksi outlier\n",
    "        Q1 = val_set[col].quantile(0.25)\n",
    "        Q3 = val_set[col].quantile(0.75)\n",
    "        IQR = Q3 - Q1\n",
    "        # Mendapatkan indeks outlier\n",
    "        outlier_indices = val_set[(val_set[col] < Q1 - 1.5 * IQR) | (val_set[col] > Q3 + 1.5 * IQR)].index\n",
    "    else:\n",
    "        # Menggunakan z-score untuk mendeteksi outlier\n",
    "        z_scores = np.abs((val_set[col] - val_set[col].mean()) / val_set[col].std())\n",
    "        outlier_indices = val_set[z_scores > 3].index\n",
    "    \n",
    "    # Hitung persentase outlier\n",
    "    outlier_percentage = len(outlier_indices) / len(val_set) * 100\n",
    "\n",
    "    print (outlier_percentage)"
   ]
  },
  {
   "cell_type": "markdown",
   "metadata": {
    "id": "aO0ZEZ-s6Lu-"
   },
   "source": [
    "### III. Remove Duplicates\n",
    "Handling duplicate values is crucial because they can compromise data integrity, leading to inaccurate analysis and insights. Duplicate entries can bias machine learning models, causing overfitting and reducing their ability to generalize to new data. They also inflate the dataset size unnecessarily, increasing computational costs and processing times. Additionally, duplicates can distort statistical measures and lead to inconsistencies, ultimately affecting the reliability of data-driven decisions and reporting. Ensuring data quality by removing duplicates is essential for accurate, efficient, and consistent analysis."
   ]
  },
  {
   "cell_type": "code",
   "execution_count": null,
   "metadata": {},
   "outputs": [],
   "source": [
    "jumlah_duplikat = train_set.duplicated().sum()\n",
    "print(f\"Jumlah baris duplikat: {jumlah_duplikat}\")"
   ]
  },
  {
   "cell_type": "code",
   "execution_count": null,
   "metadata": {},
   "outputs": [],
   "source": [
    "jumlah_duplikat = val_set.duplicated().sum()\n",
    "print(f\"Jumlah baris duplikat: {jumlah_duplikat}\")"
   ]
  },
  {
   "cell_type": "code",
   "execution_count": 19,
   "metadata": {
    "id": "BHCkkZ-v7iF8"
   },
   "outputs": [],
   "source": [
    "# Write your code here\n",
    "train_set = train_set.drop_duplicates()"
   ]
  },
  {
   "cell_type": "code",
   "execution_count": 20,
   "metadata": {},
   "outputs": [],
   "source": [
    "# Write your code here\n",
    "val_set = val_set.drop_duplicates()"
   ]
  },
  {
   "cell_type": "code",
   "execution_count": null,
   "metadata": {},
   "outputs": [],
   "source": [
    "jumlah_duplikat = train_set.duplicated().sum()\n",
    "print(f\"Jumlah baris duplikat: {jumlah_duplikat}\")"
   ]
  },
  {
   "cell_type": "code",
   "execution_count": null,
   "metadata": {},
   "outputs": [],
   "source": [
    "jumlah_duplikat = val_set.duplicated().sum()\n",
    "print(f\"Jumlah baris duplikat: {jumlah_duplikat}\")"
   ]
  },
  {
   "cell_type": "markdown",
   "metadata": {
    "id": "eycPASmMLfHa"
   },
   "source": [
    "### IV. Feature Engineering\n",
    "\n",
    "**Feature engineering** involves creating new features (input variables) or transforming existing ones to improve the performance of machine learning models. Feature engineering aims to enhance the model's ability to learn patterns and make accurate predictions from the data. It's often said that \"good features make good models.\"\n",
    "\n",
    "1. **Feature Selection:** Feature engineering can involve selecting the most relevant and informative features from the dataset. Removing irrelevant or redundant features not only simplifies the model but also reduces the risk of overfitting.\n",
    "\n",
    "2. **Creating New Features:** Sometimes, the existing features may not capture the underlying patterns effectively. In such cases, engineers create new features that provide additional information. For example:\n",
    "   \n",
    "   - **Polynomial Features:** Engineers may create new features by taking the square, cube, or other higher-order terms of existing numerical features. This can help capture nonlinear relationships.\n",
    "   \n",
    "   - **Interaction Features:** Interaction features are created by combining two or more existing features. For example, if you have features \"length\" and \"width,\" you can create an \"area\" feature by multiplying them.\n",
    "\n",
    "3. **Binning or Discretization:** Continuous numerical features can be divided into bins or categories. For instance, age values can be grouped into bins like \"child,\" \"adult,\" and \"senior.\"\n",
    "\n",
    "4. **Domain-Specific Feature Engineering:** Depending on the domain and problem, engineers may create domain-specific features. For example, in fraud detection, features related to transaction history and user behavior may be engineered to identify anomalies.\n",
    "\n",
    "Feature engineering is both a creative and iterative process. It requires a deep understanding of the data, domain knowledge, and experimentation to determine which features will enhance the model's predictive power."
   ]
  },
  {
   "cell_type": "code",
   "execution_count": null,
   "metadata": {
    "id": "UoXEV6wkLfHa"
   },
   "outputs": [],
   "source": [
    "print(len(df.columns))"
   ]
  },
  {
   "cell_type": "code",
   "execution_count": null,
   "metadata": {},
   "outputs": [],
   "source": [
    "# Buat fitur baru dari karakteristik URL\n",
    "if 'URL' in train_set.columns:\n",
    "   # Hitung karakter spesial\n",
    "   train_set['special_char_count'] = train_set['URL'].str.count(r'[^a-zA-Z0-9]').fillna(0)\n",
    "   # Hitung digit\n",
    "   train_set['digit_count'] = train_set['URL'].str.count(r'[0-9]').fillna(0)\n",
    "\n",
    "# Buat fitur interaksi\n",
    "if 'URLLength' in train_set.columns and 'DomainLength' in train_set.columns:\n",
    "   train_set['url_domain_ratio'] = train_set['URLLength'] / train_set['DomainLength'].replace(0, 1)\n",
    "\n",
    "# Buat fitur binary dari TLD\n",
    "if 'TLD' in train_set.columns:\n",
    "   common_tlds = ['com', 'org', 'net', 'edu']\n",
    "   train_set['is_common_tld'] = train_set['TLD'].isin(common_tlds).astype(int)\n",
    "\n",
    "# Buat aggregate features\n",
    "security_cols = ['HasObfuscation', 'IsHTTPS', 'HasHiddenFields']\n",
    "train_set['security_score'] = train_set[security_cols].sum(axis=1)\n",
    "\n",
    "# Cek fitur baru\n",
    "print(\"\\nJumlah kolom setelah feature engineering:\", len(train_set.columns))\n",
    "print(\"\\nBeberapa baris dengan fitur baru:\")\n",
    "print(train_set[['special_char_count', 'digit_count', 'url_domain_ratio',\n",
    "          'is_common_tld', 'security_score']].head())"
   ]
  },
  {
   "cell_type": "code",
   "execution_count": null,
   "metadata": {},
   "outputs": [],
   "source": [
    "# Buat fitur baru dari karakteristik URL\n",
    "if 'URL' in val_set.columns:\n",
    "   # Hitung karakter spesial\n",
    "   val_set['special_char_count'] = val_set['URL'].str.count(r'[^a-zA-Z0-9]').fillna(0)\n",
    "   # Hitung digit\n",
    "   val_set['digit_count'] = val_set['URL'].str.count(r'[0-9]').fillna(0)\n",
    "\n",
    "# Buat fitur interaksi\n",
    "if 'URLLength' in val_set.columns and 'DomainLength' in val_set.columns:\n",
    "   val_set['url_domain_ratio'] = val_set['URLLength'] / val_set['DomainLength'].replace(0, 1)\n",
    "\n",
    "# Buat fitur binary dari TLD\n",
    "if 'TLD' in val_set.columns:\n",
    "   common_tlds = ['com', 'org', 'net', 'edu']\n",
    "   val_set['is_common_tld'] = val_set['TLD'].isin(common_tlds).astype(int)\n",
    "\n",
    "# Buat aggregate features\n",
    "security_cols = ['HasObfuscation', 'IsHTTPS', 'HasHiddenFields']\n",
    "val_set['security_score'] = val_set[security_cols].sum(axis=1)\n",
    "\n",
    "# Cek fitur baru\n",
    "print(\"\\nJumlah kolom setelah feature engineering:\", len(val_set.columns))\n",
    "print(\"\\nBeberapa baris dengan fitur baru:\")\n",
    "print(val_set[['special_char_count', 'digit_count', 'url_domain_ratio',\n",
    "          'is_common_tld', 'security_score']].head())"
   ]
  },
  {
   "cell_type": "markdown",
   "metadata": {
    "id": "xw11_49xLfHb"
   },
   "source": [
    "## B. Data Preprocessing\n",
    "\n",
    "**Data preprocessing** is a broader step that encompasses both data cleaning and additional transformations to make the data suitable for machine learning algorithms. Its primary goals are:\n",
    "\n",
    "1. **Feature Scaling:** Ensure that numerical features have similar scales. Common techniques include Min-Max scaling (scaling to a specific range) or standardization (mean-centered, unit variance).\n",
    "\n",
    "2. **Encoding Categorical Variables:** Machine learning models typically work with numerical data, so categorical variables need to be encoded. This can be done using one-hot encoding, label encoding, or more advanced methods like target encoding.\n",
    "\n",
    "3. **Handling Imbalanced Classes:** If dealing with imbalanced classes in a binary classification task, apply techniques such as oversampling, undersampling, or using different evaluation metrics to address class imbalance.\n",
    "\n",
    "4. **Dimensionality Reduction:** Reduce the number of features using techniques like Principal Component Analysis (PCA) or feature selection to simplify the model and potentially improve its performance.\n",
    "\n",
    "5. **Normalization:** Normalize data to achieve a standard distribution. This is particularly important for algorithms that assume normally distributed data."
   ]
  },
  {
   "cell_type": "markdown",
   "metadata": {},
   "source": [
    "Drop Column that Useless"
   ]
  },
  {
   "cell_type": "code",
   "execution_count": 25,
   "metadata": {},
   "outputs": [],
   "source": [
    "train_set = train_set.drop(columns=['Title', 'Domain', 'URL', 'TLD'])\n",
    "val_set = val_set.drop(columns=['Title', 'Domain', 'URL', 'TLD'])"
   ]
  },
  {
   "cell_type": "markdown",
   "metadata": {
    "id": "rVyVnA1hLfHd"
   },
   "source": [
    "### Notes on Preprocessing processes\n",
    "\n",
    "It is advised to create functions or classes that have the same/similar type of inputs and outputs, so you can add, remove, or swap the order of the processes easily. You can implement the functions or classes by yourself\n",
    "\n",
    "or\n",
    "\n",
    "use `sklearn` library. To create a new preprocessing component in `sklearn`, implement a corresponding class that includes:\n",
    "1. Inheritance to `BaseEstimator` and `TransformerMixin`\n",
    "2. The method `fit`\n",
    "3. The method `transform`"
   ]
  },
  {
   "cell_type": "code",
   "execution_count": 26,
   "metadata": {
    "id": "WbxHt-5eKz_I"
   },
   "outputs": [],
   "source": [
    "# Example\n",
    "\n",
    "# from sklearn.base import BaseEstimator, TransformerMixin\n",
    "\n",
    "# class FeatureEncoder(BaseEstimator, TransformerMixin):\n",
    "\n",
    "#     def fit(self, X, y=None):\n",
    "\n",
    "#         # Fit the encoder here\n",
    "\n",
    "#         return self\n",
    "\n",
    "#     def transform(self, X):\n",
    "#         X_encoded = X.copy()\n",
    "\n",
    "#         # Encode the categorical variables here\n",
    "\n",
    "#         return X_encoded"
   ]
  },
  {
   "cell_type": "markdown",
   "metadata": {
    "id": "WhCgOl4xLfHb"
   },
   "source": [
    "### I. Feature Scaling\n",
    "\n",
    "**Feature scaling** is a preprocessing technique used in machine learning to standardize the range of independent variables or features of data. The primary goal of feature scaling is to ensure that all features contribute equally to the training process and that machine learning algorithms can work effectively with the data.\n",
    "\n",
    "Here are the main reasons why feature scaling is important:\n",
    "\n",
    "1. **Algorithm Sensitivity:** Many machine learning algorithms are sensitive to the scale of input features. If the scales of features are significantly different, some algorithms may perform poorly or take much longer to converge.\n",
    "\n",
    "2. **Distance-Based Algorithms:** Algorithms that rely on distances or similarities between data points, such as k-nearest neighbors (KNN) and support vector machines (SVM), can be influenced by feature scales. Features with larger scales may dominate the distance calculations.\n",
    "\n",
    "3. **Regularization:** Regularization techniques, like L1 (Lasso) and L2 (Ridge) regularization, add penalty terms based on feature coefficients. Scaling ensures that all features are treated equally in the regularization process.\n",
    "\n",
    "Common methods for feature scaling include:\n",
    "\n",
    "1. **Min-Max Scaling (Normalization):** This method scales features to a specific range, typically [0, 1]. It's done using the following formula:\n",
    "\n",
    "   $$X' = \\frac{X - X_{min}}{X_{max} - X_{min}}$$\n",
    "\n",
    "   - Here, $X$ is the original feature value, $X_{min}$ is the minimum value of the feature, and $X_{max}$ is the maximum value of the feature.  \n",
    "<br />\n",
    "<br />\n",
    "2. **Standardization (Z-score Scaling):** This method scales features to have a mean (average) of 0 and a standard deviation of 1. It's done using the following formula:\n",
    "\n",
    "   $$X' = \\frac{X - \\mu}{\\sigma}$$\n",
    "\n",
    "   - $X$ is the original feature value, $\\mu$ is the mean of the feature, and $\\sigma$ is the standard deviation of the feature.  \n",
    "<br />\n",
    "<br />\n",
    "3. **Robust Scaling:** Robust scaling is a method that scales features to the interquartile range (IQR) and is less affected by outliers. It's calculated as:\n",
    "\n",
    "   $$X' = \\frac{X - Q1}{Q3 - Q1}$$\n",
    "\n",
    "   - $X$ is the original feature value, $Q1$ is the first quartile (25th percentile), and $Q3$ is the third quartile (75th percentile) of the feature.  \n",
    "<br />\n",
    "<br />\n",
    "4. **Log Transformation:** In cases where data is highly skewed or has a heavy-tailed distribution, taking the logarithm of the feature values can help stabilize the variance and improve scaling.\n",
    "\n",
    "The choice of scaling method depends on the characteristics of your data and the requirements of your machine learning algorithm. **Min-max scaling and standardization are the most commonly used techniques and work well for many datasets.**\n",
    "\n",
    "Scaling should be applied separately to each training and test set to prevent data leakage from the test set into the training set. Additionally, **some algorithms may not require feature scaling, particularly tree-based models.**"
   ]
  },
  {
   "cell_type": "code",
   "execution_count": null,
   "metadata": {
    "id": "COef9EbCLfHb"
   },
   "outputs": [],
   "source": [
    "# Identifikasi kolom numerik dari train_set yang sudah ada\n",
    "numeric_cols = train_set.select_dtypes(include=['float64', 'int64']).columns\n",
    "numeric_cols = numeric_cols.drop('label') if 'label' in numeric_cols else numeric_cols\n",
    "\n",
    "# Pilih hanya kolom numerik dari train_set dan val_set\n",
    "train_set_numeric = train_set[numeric_cols]\n",
    "val_set_numeric = val_set[numeric_cols]\n",
    "\n",
    "# Standardization\n",
    "scaler = StandardScaler()\n",
    "train_set_scaled = scaler.fit_transform(train_set_numeric)\n",
    "val_set_scaled = scaler.transform(val_set_numeric)\n",
    "\n",
    "# Convert kembali ke DataFrame\n",
    "train_set_scaled = pd.DataFrame(train_set_scaled, columns=train_set_numeric.columns)\n",
    "val_set_scaled = pd.DataFrame(val_set_scaled, columns=val_set_numeric.columns)\n",
    "\n",
    "# Cek hasil\n",
    "train_set_scaled.describe()"
   ]
  },
  {
   "cell_type": "markdown",
   "metadata": {
    "id": "f_Lh-4JwLfHc"
   },
   "source": [
    "### II. Feature Encoding\n",
    "\n",
    "**Feature encoding**, also known as **categorical encoding**, is the process of converting categorical data (non-numeric data) into a numerical format so that it can be used as input for machine learning algorithms. Most machine learning models require numerical data for training and prediction, so feature encoding is a critical step in data preprocessing.\n",
    "\n",
    "Categorical data can take various forms, including:\n",
    "\n",
    "1. **Nominal Data:** Categories with no intrinsic order, like colors or country names.  \n",
    "\n",
    "2. **Ordinal Data:** Categories with a meaningful order but not necessarily equidistant, like education levels (e.g., \"high school,\" \"bachelor's,\" \"master's\").\n",
    "\n",
    "There are several common methods for encoding categorical data:\n",
    "\n",
    "1. **Label Encoding:**\n",
    "\n",
    "   - Label encoding assigns a unique integer to each category in a feature.\n",
    "   - It's suitable for ordinal data where there's a clear order among categories.\n",
    "   - For example, if you have an \"education\" feature with values \"high school,\" \"bachelor's,\" and \"master's,\" you can encode them as 0, 1, and 2, respectively.\n",
    "<br />\n",
    "<br />\n",
    "2. **One-Hot Encoding:**\n",
    "\n",
    "   - One-hot encoding creates a binary (0 or 1) column for each category in a nominal feature.\n",
    "   - It's suitable for nominal data where there's no inherent order among categories.\n",
    "   - Each category becomes a new feature, and the presence (1) or absence (0) of a category is indicated for each row.\n",
    "<br />\n",
    "<br />\n",
    "3. **Target Encoding (Mean Encoding):**\n",
    "\n",
    "   - Target encoding replaces each category with the mean of the target variable for that category.\n",
    "   - It's often used for classification problems."
   ]
  },
  {
   "cell_type": "code",
   "execution_count": null,
   "metadata": {
    "id": "psElSUugLfHc"
   },
   "outputs": [],
   "source": [
    "# Write your code here\n",
    "# Write your code here\n",
    "from sklearn.preprocessing import OneHotEncoder\n",
    "import pandas as pd\n",
    "\n",
    "# Inisialisasi OneHotEncoder\n",
    "# The sparse argument is deprecated in newer versions.\n",
    "# It's now implicitly handled based on other settings.\n",
    "# You can remove it safely.\n",
    "encoder = OneHotEncoder(sparse_output=False, handle_unknown='ignore') # If you need to handle_unknown values\n",
    "\n",
    "# Melakukan fit_transform pada kolom TLD\n",
    "encoded_data = encoder.fit_transform(train_set[['TLD']])\n",
    "\n",
    "# Mengubah hasil encoding menjadi DataFrame\n",
    "encoded_train_set = pd.DataFrame(encoded_data, columns=encoder.get_feature_names_out(['TLD']))\n",
    "\n",
    "# Menggabungkan hasil encoding dengan DataFrame asli (opsional)\n",
    "train_set = pd.concat([df, encoded_train_set], axis=1)\n",
    "\n",
    "# Applying the encoding transformation to the validation set\n",
    "encoded_val_data = encoder.transform(val_set[['TLD']])\n",
    "\n",
    "# Creating a DataFrame with the encoded features for the validation set\n",
    "encoded_val_set = pd.DataFrame(encoded_val_data, columns=encoder.get_feature_names_out(['TLD']))\n",
    "\n",
    "# Concatenating the encoded features with the original validation set (optional)\n",
    "val_set = pd.concat([val_set, encoded_val_set], axis=1)"
   ]
  },
  {
   "cell_type": "code",
   "execution_count": null,
   "metadata": {},
   "outputs": [],
   "source": [
    "train_set"
   ]
  },
  {
   "cell_type": "code",
   "execution_count": null,
   "metadata": {},
   "outputs": [],
   "source": [
    "val_set"
   ]
  },
  {
   "cell_type": "markdown",
   "metadata": {
    "id": "jKQO9wtB8Pc0"
   },
   "source": [
    "### III. Handling Imbalanced Dataset\n",
    "\n",
    "**Handling imbalanced datasets** is important because imbalanced data can lead to several issues that negatively impact the performance and reliability of machine learning models. Here are some key reasons:\n",
    "\n",
    "1. **Biased Model Performance**:\n",
    "\n",
    " - Models trained on imbalanced data tend to be biased towards the majority class, leading to poor performance on the minority class. This can result in misleading accuracy metrics.\n",
    "\n",
    "2. **Misleading Accuracy**:\n",
    "\n",
    " - High overall accuracy can be misleading in imbalanced datasets. For example, if 95% of the data belongs to one class, a model that always predicts the majority class will have 95% accuracy but will fail to identify the minority class.\n",
    "\n",
    "3. **Poor Generalization**:\n",
    "\n",
    " - Models trained on imbalanced data may not generalize well to new, unseen data, especially if the minority class is underrepresented.\n",
    "\n",
    "\n",
    "Some methods to handle imbalanced datasets:\n",
    "1. **Resampling Methods**:\n",
    "\n",
    " - Oversampling: Increase the number of instances in the minority class by duplicating or generating synthetic samples (e.g., SMOTE).\n",
    " - Undersampling: Reduce the number of instances in the majority class to balance the dataset.\n",
    "\n",
    "2. **Evaluation Metrics**:\n",
    "\n",
    " - Use appropriate evaluation metrics such as precision, recall, F1-score, ROC-AUC, and confusion matrix instead of accuracy to better assess model performance on imbalanced data.\n",
    "\n",
    "3. **Algorithmic Approaches**:\n",
    "\n",
    " - Use algorithms that are designed to handle imbalanced data, such as decision trees, random forests, or ensemble methods.\n",
    " - Adjust class weights in algorithms to give more importance to the minority class."
   ]
  },
  {
   "cell_type": "code",
   "execution_count": null,
   "metadata": {},
   "outputs": [],
   "source": [
    "print(\"distribution:\")\n",
    "print(df['label'].value_counts())\n",
    "print(\"\\npercentage distribution:\")\n",
    "print(df['label'].value_counts(normalize=True) * 100)"
   ]
  },
  {
   "cell_type": "code",
   "execution_count": null,
   "metadata": {},
   "outputs": [],
   "source": [
    "columns_to_drop_imbalanced = ['id', 'FILENAME', 'URL', 'Title', 'Domain']\n",
    "X_imbalanced = df.drop(columns_to_drop_imbalanced + ['label'], axis=1)\n",
    "X_imbalanced = pd.get_dummies(X_imbalanced, columns=['TLD'])\n",
    "y_imbalanced = df['label']\n",
    "\n",
    "print(\"features shape:\", X_imbalanced.shape)\n",
    "print(\"label shape:\", y_imbalanced.shape)\n",
    "\n",
    "X_train_imbalanced, X_test_imbalanced, y_train_imbalanced, y_test_imbalanced = train_test_split(\n",
    "    X_imbalanced, \n",
    "    y_imbalanced, \n",
    "    test_size=0.3, \n",
    "    random_state=66\n",
    ")\n",
    "\n",
    "print(\"\\ntraining set before resampling:\")\n",
    "print(y_train_imbalanced.value_counts())\n",
    "print(\"\\ntest set:\")\n",
    "print(y_test_imbalanced.value_counts())\n",
    "\n",
    "from imblearn.combine import SMOTETomek\n",
    "smote_tomek = SMOTETomek(random_state=66)\n",
    "X_train_balanced, y_train_balanced = smote_tomek.fit_resample(X_train_imbalanced, y_train_imbalanced)\n",
    "\n",
    "print(\"\\ntraining set  after resampling:\")\n",
    "print(pd.Series(y_train_balanced).value_counts())"
   ]
  },
  {
   "cell_type": "code",
   "execution_count": null,
   "metadata": {},
   "outputs": [],
   "source": []
  },
  {
   "cell_type": "markdown",
   "metadata": {},
   "source": [
    "### V. Normalization"
   ]
  },
  {
   "cell_type": "code",
   "execution_count": null,
   "metadata": {},
   "outputs": [],
   "source": [
    "train_set.describe()"
   ]
  },
  {
   "cell_type": "code",
   "execution_count": null,
   "metadata": {},
   "outputs": [],
   "source": [
    "val_set.describe()"
   ]
  },
  {
   "cell_type": "code",
   "execution_count": 146,
   "metadata": {},
   "outputs": [],
   "source": [
    "# numeric_cols = train_set.select_dtypes(include=['float64', 'int64']).columns\n",
    "\n",
    "# min_max_scaler = MinMaxScaler()\n",
    "# min_max_scaled = min_max_scaler.fit_transform(train_set[numeric_cols])\n",
    "\n",
    "# train_set_min_max_scaled = train_set.copy()\n",
    "# train_set_min_max_scaled[numeric_cols] = min_max_scaled\n",
    "\n",
    "# print(\"\\nMin-Max Scaled Data:\")\n",
    "# print(train_set_min_max_scaled)\n",
    "\n",
    "# val_set_min_max_scaled = val_set.copy()\n",
    "# val_set_min_max_scaled[numeric_cols] = min_max_scaler.transform(val_set[numeric_cols])\n",
    "\n",
    "# print(\"\\nMin-Max Scaled Data:\")\n",
    "# print(val_set_min_max_scaled)\n",
    "\n",
    "# # Mengganti kolom numerik asli dengan kolom yang sudah di-scaling pada train_set\n",
    "# train_set = train_set.drop(columns=numeric_cols)\n",
    "# train_set = pd.concat([train_set, train_set_min_max_scaled[numeric_cols]], axis=1)\n",
    "\n",
    "# # Mengganti kolom numerik asli dengan kolom yang sudah di-scaling pada val_set\n",
    "# val_set = val_set.drop(columns=numeric_cols)\n",
    "# val_set = pd.concat([val_set, val_set_min_max_scaled[numeric_cols]], axis=1)"
   ]
  },
  {
   "cell_type": "code",
   "execution_count": null,
   "metadata": {
    "id": "u2BQd2XJ9W1i"
   },
   "outputs": [],
   "source": []
  },
  {
   "cell_type": "markdown",
   "metadata": {
    "id": "-ctVzt5DLfHd"
   },
   "source": [
    "# 3. Compile Preprocessing Pipeline\n",
    "\n",
    "All of the preprocessing classes or functions defined earlier will be compiled in this step."
   ]
  },
  {
   "cell_type": "markdown",
   "metadata": {
    "id": "S_ZlncSVjJG6"
   },
   "source": [
    "If you use sklearn to create preprocessing classes, you can list your preprocessing classes in the Pipeline object sequentially, and then fit and transform your data."
   ]
  },
  {
   "cell_type": "code",
   "execution_count": 147,
   "metadata": {
    "id": "jHraoW_7LfHd"
   },
   "outputs": [],
   "source": [
    "# from sklearn.pipeline import Pipeline\n",
    "\n",
    "# # Note: You can add or delete preprocessing components from this pipeline\n",
    "\n",
    "# pipe = Pipeline([(\"imputer\", FeatureImputer()),\n",
    "#                  (\"featurecreator\", FeatureCreator()),\n",
    "#                  (\"scaler\", FeatureScaler()),\n",
    "#                  (\"encoder\", FeatureEncoder())])\n",
    "\n",
    "# train_set = pipe.fit_transform(train_set)\n",
    "# val_set = pipe.transform(val_set)"
   ]
  },
  {
   "cell_type": "code",
   "execution_count": 148,
   "metadata": {
    "id": "9s56aFFxLfHd"
   },
   "outputs": [],
   "source": [
    "# # Your code should work up until this point\n",
    "# train_set = pipe.fit_transform(train_set)\n",
    "# val_set = pipe.transform(val_set)"
   ]
  },
  {
   "cell_type": "markdown",
   "metadata": {
    "id": "SXoCqMztjhr-"
   },
   "source": [
    "or create your own here"
   ]
  },
  {
   "cell_type": "code",
   "execution_count": 149,
   "metadata": {
    "id": "7OoZ3oXEj2CW"
   },
   "outputs": [],
   "source": [
    "# Write your code here"
   ]
  },
  {
   "cell_type": "markdown",
   "metadata": {
    "id": "9A3adbZXLfHe"
   },
   "source": [
    "# 4. Modeling and Validation\n",
    "\n",
    "Modelling is the process of building your own machine learning models to solve specific problems, or in this assignment context, predicting the target feature `label`. Validation is the process of evaluating your trained model using the validation set or cross-validation method and providing some metrics that can help you decide what to do in the next iteration of development."
   ]
  },
  {
   "cell_type": "code",
   "execution_count": null,
   "metadata": {},
   "outputs": [],
   "source": [
    "# Identifikasi missing values\n",
    "print(\"Jumlah missing values:\")\n",
    "print(val_set.isnull().sum())\n",
    "print()\n",
    "\n",
    "# Menghitung persentase missing values\n",
    "missing_percent = (val_set.isnull().sum() / len(val_set)) * 100\n",
    "print(\"Persentase missing values:\")\n",
    "print(missing_percent)"
   ]
  },
  {
   "cell_type": "markdown",
   "metadata": {
    "id": "ZnhMNbBILfHf"
   },
   "source": [
    "## A. KNN"
   ]
  },
  {
   "cell_type": "code",
   "execution_count": 150,
   "metadata": {},
   "outputs": [],
   "source": [
    "X_train = train_set.drop('label', axis=1)\n",
    "y_train = train_set['label']\n",
    "\n",
    "# Splitting val_set into X_val and y_val\n",
    "X_val = val_set.drop('label', axis=1)\n",
    "y_val = val_set['label']"
   ]
  },
  {
   "cell_type": "code",
   "execution_count": null,
   "metadata": {},
   "outputs": [],
   "source": [
    "import numpy as np\n",
    "\n",
    "def euclidean_distance(x1, x2):\n",
    "    return np.sqrt(np.sum((x1 - x2) ** 2))\n",
    "\n",
    "def knn_predict(X_train, y_train, X_test, k):\n",
    "    y_pred = []\n",
    "    for x in X_test:\n",
    "        distances = [euclidean_distance(x, x_train) for x_train in X_train]\n",
    "        k_idx = np.argsort(distances)[:k]\n",
    "        k_neighbor_labels = [y_train[i] for i in k_idx]\n",
    "        most_common = max(set(k_neighbor_labels), key=k_neighbor_labels.count)\n",
    "        y_pred.append(most_common)\n",
    "    return np.array(y_pred)\n",
    "\n",
    "# Assuming you have your training and validation data stored in X_train, y_train, X_val, y_val\n",
    "\n",
    "# Set the value of k\n",
    "k = 3\n",
    "\n",
    "# Make predictions on the validation set\n",
    "predictions = knn_predict(X_train, y_train, X_val, k)\n",
    "\n",
    "# Calculate accuracy\n",
    "accuracy = np.sum(predictions == y_val) / len(y_val)\n",
    "print(\"Accuracy:\", accuracy)"
   ]
  },
  {
   "cell_type": "code",
   "execution_count": null,
   "metadata": {
    "id": "KV6ICmFmlqjk"
   },
   "outputs": [],
   "source": [
    "knn = KNeighborsClassifier(n_neighbors=5)  # You can adjust the value of n_neighbors\n",
    "knn.fit(X_train, y_train)\n",
    "knn_predictions = knn.predict(X_val)"
   ]
  },
  {
   "cell_type": "markdown",
   "metadata": {
    "id": "nW0bMzkDLfHf"
   },
   "source": [
    "## B. Naive Bayes"
   ]
  },
  {
   "cell_type": "code",
   "execution_count": null,
   "metadata": {
    "id": "C_XwsN_-LfHg"
   },
   "outputs": [],
   "source": [
    "nb = GaussianNB()\n",
    "nb.fit(X_train, y_train)\n",
    "nb_predictions = nb.predict(X_val)# Type your code here"
   ]
  },
  {
   "cell_type": "code",
   "execution_count": null,
   "metadata": {},
   "outputs": [],
   "source": [
    "import numpy as np\n",
    "\n",
    "def gaussian_naive_bayes(X_train, y_train, X_test):\n",
    "    classes = np.unique(y_train)\n",
    "    n_classes = len(classes)\n",
    "    n_features = X_train.shape[1]\n",
    "    \n",
    "    # Calculate prior probabilities\n",
    "    priors = np.zeros(n_classes)\n",
    "    for i, c in enumerate(classes):\n",
    "        priors[i] = np.sum(y_train == c) / len(y_train)\n",
    "    \n",
    "    # Calculate mean and variance for each feature per class\n",
    "    means = np.zeros((n_classes, n_features))\n",
    "    variances = np.zeros((n_classes, n_features))\n",
    "    for i, c in enumerate(classes):\n",
    "        X_c = X_train[y_train == c]\n",
    "        means[i, :] = np.mean(X_c, axis=0)\n",
    "        variances[i, :] = np.var(X_c, axis=0)\n",
    "    \n",
    "    # Make predictions for test set\n",
    "    y_pred = []\n",
    "    for x in X_test:\n",
    "        posteriors = []\n",
    "        for i, c in enumerate(classes):\n",
    "            prior = np.log(priors[i])\n",
    "            likelihood = np.sum(np.log(gaussian_pdf(x, means[i], variances[i])))\n",
    "            posterior = prior + likelihood\n",
    "            posteriors.append(posterior)\n",
    "        y_pred.append(classes[np.argmax(posteriors)])\n",
    "    \n",
    "    return np.array(y_pred)\n",
    "\n",
    "def gaussian_pdf(x, mean, var):\n",
    "    return (1 / np.sqrt(2 * np.pi * var)) * np.exp(-((x - mean) ** 2) / (2 * var))\n",
    "\n",
    "# Assuming you have your training and validation data stored in X_train, y_train, X_val, y_val\n",
    "\n",
    "# Make predictions on the validation set\n",
    "predictions = gaussian_naive_bayes(X_train, y_train, X_val)\n",
    "\n",
    "# Calculate accuracy\n",
    "accuracy = np.sum(predictions == y_val) / len(y_val)\n",
    "print(\"Accuracy:\", accuracy)"
   ]
  },
  {
   "cell_type": "code",
   "execution_count": null,
   "metadata": {},
   "outputs": [],
   "source": [
    "# Evaluation Metrics\n",
    "knn_accuracy = accuracy_score(y_val, knn_predictions)\n",
    "knn_precision = precision_score(y_val, knn_predictions)\n",
    "knn_recall = recall_score(y_val, knn_predictions)\n",
    "knn_f1 = f1_score(y_val, knn_predictions)\n",
    "\n",
    "nb_accuracy = accuracy_score(y_val, nb_predictions)\n",
    "nb_precision = precision_score(y_val, nb_predictions)\n",
    "nb_recall = recall_score(y_val, nb_predictions)\n",
    "nb_f1 = f1_score(y_val, nb_predictions)\n",
    "\n",
    "# Print the evaluation metrics\n",
    "print(\"KNN Metrics:\")\n",
    "print(\"Accuracy:\", knn_accuracy)\n",
    "print(\"Precision:\", knn_precision)\n",
    "print(\"Recall:\", knn_recall)\n",
    "print(\"F1 Score:\", knn_f1)\n",
    "\n",
    "print(\"\\nNaive Bayes Metrics:\")\n",
    "print(\"Accuracy:\", nb_accuracy)\n",
    "print(\"Precision:\", nb_precision)\n",
    "print(\"Recall:\", nb_recall)\n",
    "print(\"F1 Score:\", nb_f1)"
   ]
  },
  {
   "cell_type": "markdown",
   "metadata": {
    "id": "LoH2u6fOLfHh"
   },
   "source": [
    "## C. Improvements (Optional)\n",
    "\n",
    "- **Visualize the model evaluation result**\n",
    "\n",
    "This will help you to understand the details more clearly about your model's performance. From the visualization, you can see clearly if your model is leaning towards a class than the others. (Hint: confusion matrix, ROC-AUC curve, etc.)\n",
    "\n",
    "- **Explore the hyperparameters of your models**\n",
    "\n",
    "Each models have their own hyperparameters. And each of the hyperparameter have different effects on the model behaviour. You can optimize the model performance by finding the good set of hyperparameters through a process called **hyperparameter tuning**. (Hint: Grid search, random search, bayesian optimization)\n",
    "\n",
    "- **Cross-validation**\n",
    "\n",
    "Cross-validation is a critical technique in machine learning and data science for evaluating and validating the performance of predictive models. It provides a more **robust** and **reliable** evaluation method compared to a hold-out (single train-test set) validation. Though, it requires more time and computing power because of how cross-validation works. (Hint: k-fold cross-validation, stratified k-fold cross-validation, etc.)"
   ]
  },
  {
   "cell_type": "code",
   "execution_count": 240,
   "metadata": {
    "id": "pg-A54yELfHh"
   },
   "outputs": [],
   "source": [
    "# Type your code here"
   ]
  },
  {
   "cell_type": "markdown",
   "metadata": {
    "id": "Li4l53DjLfHh"
   },
   "source": [
    "## D. Submission\n",
    "To predict the test set target feature and submit the results to the kaggle competition platform, do the following:\n",
    "1. Create a new pipeline instance identical to the first in Data Preprocessing\n",
    "2. With the pipeline, apply `fit_transform` to the original training set before splitting, then only apply `transform` to the test set.\n",
    "3. Retrain the model on the preprocessed training set\n",
    "4. Predict the test set\n",
    "5. Make sure the submission contains the `id` and `label` column.\n",
    "\n",
    "Note: Adjust step 1 and 2 to your implementation of the preprocessing step if you don't use pipeline API from `sklearn`."
   ]
  },
  {
   "cell_type": "code",
   "execution_count": 241,
   "metadata": {
    "id": "LeqnfWc-LfHi"
   },
   "outputs": [],
   "source": [
    "# Type your code here"
   ]
  },
  {
   "cell_type": "markdown",
   "metadata": {
    "id": "R-jXvKOpLfHi"
   },
   "source": [
    "# 6. Error Analysis\n",
    "\n",
    "Based on all the process you have done until the modeling and evaluation step, write an analysis to support each steps you have taken to solve this problem. Write the analysis using the markdown block. Some questions that may help you in writing the analysis:\n",
    "\n",
    "- Does my model perform better in predicting one class than the other? If so, why is that?\n",
    "- To each models I have tried, which performs the best and what could be the reason?\n",
    "- Is it better for me to impute or drop the missing data? Why?\n",
    "- Does feature scaling help improve my model performance?\n",
    "- etc..."
   ]
  },
  {
   "cell_type": "markdown",
   "metadata": {
    "id": "tWL3nEAELfHj"
   },
   "source": [
    "`Provide your analysis here`"
   ]
  }
 ],
 "metadata": {
  "colab": {
   "provenance": []
  },
  "kernelspec": {
   "display_name": "Python 3",
   "language": "python",
   "name": "python3"
  },
  "language_info": {
   "codemirror_mode": {
    "name": "ipython",
    "version": 3
   },
   "file_extension": ".py",
   "mimetype": "text/x-python",
   "name": "python",
   "nbconvert_exporter": "python",
   "pygments_lexer": "ipython3",
   "version": "3.12.6"
  }
 },
 "nbformat": 4,
 "nbformat_minor": 0
}
