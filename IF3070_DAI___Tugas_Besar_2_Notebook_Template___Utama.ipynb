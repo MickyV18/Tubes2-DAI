{
 "cells": [
  {
   "cell_type": "markdown",
   "metadata": {
    "id": "uR1JW69eLfG_"
   },
   "source": [
    "# IF3070 Foundations of Artificial Intelligence | Tugas Besar 2\n",
    "\n",
    "This notebook serves as a template for the assignment. Please create a copy of this notebook to complete your work. You can add more code blocks, markdown blocks, or new sections if needed.\n"
   ]
  },
  {
   "cell_type": "markdown",
   "metadata": {
    "id": "ucbaI5rBLtjJ"
   },
   "source": [
    "Group Number: 13\n",
    "\n",
    "Group Members:\n",
    "- Jonathan Wiguna (18222019)\n",
    "- Naomi Pricilla Agustine(18222065)\n",
    "- Harry Truman Suhalim (18222081)\n",
    "- Micky Valentino(18222093)"
   ]
  },
  {
   "cell_type": "markdown",
   "metadata": {
    "id": "GwzsfETHLfHA"
   },
   "source": [
    "## Import Libraries"
   ]
  },
  {
   "cell_type": "code",
   "execution_count": 6,
   "metadata": {
    "id": "jZJU5W_4LfHB"
   },
   "outputs": [],
   "source": [
    "import pandas as pd\n",
    "import numpy as np\n",
    "import pickle\n",
    "from sklearn.model_selection import train_test_split\n",
    "from sklearn.preprocessing import StandardScaler, MinMaxScaler\n",
    "from sklearn.neighbors import KNeighborsClassifier\n",
    "from sklearn.naive_bayes import GaussianNB\n",
    "from sklearn.metrics import classification_report\n",
    "from sklearn.base import BaseEstimator, TransformerMixin\n",
    "from sklearn.pipeline import Pipeline\n",
    "from sklearn.utils.validation import check_is_fitted, check_array\n",
    "from imblearn.combine import SMOTETomek\n",
    "from datetime import datetime\n",
    "import re"
   ]
  },
  {
   "cell_type": "markdown",
   "metadata": {
    "id": "OKbjLIdYLfHC"
   },
   "source": [
    "## Import Dataset"
   ]
  },
  {
   "cell_type": "code",
   "execution_count": 7,
   "metadata": {
    "colab": {
     "base_uri": "https://localhost:8080/",
     "height": 255
    },
    "id": "-IWFJ-gdLfHD",
    "outputId": "99c7d8d9-1c4c-414a-c405-19b36f6e0e26"
   },
   "outputs": [],
   "source": [
    "train_df = pd.read_csv('https://drive.google.com/uc?id=1629Y3A-tpqB9Oi69heIUk6zPX3K4e1I5')"
   ]
  },
  {
   "cell_type": "code",
   "execution_count": 8,
   "metadata": {},
   "outputs": [],
   "source": [
    "test_df = pd.read_csv('https://gist.githubusercontent.com/RunningPie/62a453218bd691c00d695f4d1fa05f38/raw/b9214382e6007dd6e267d7693e400e36c0fe4d77/test.csv')"
   ]
  },
  {
   "cell_type": "code",
   "execution_count": null,
   "metadata": {},
   "outputs": [],
   "source": [
    "train_df.describe()"
   ]
  },
  {
   "cell_type": "code",
   "execution_count": null,
   "metadata": {},
   "outputs": [],
   "source": [
    "test_df.describe()"
   ]
  },
  {
   "cell_type": "code",
   "execution_count": 11,
   "metadata": {},
   "outputs": [],
   "source": [
    "train_df = train_df.drop(columns=['FILENAME'])\n",
    "test_df = test_df.drop(columns=['FILENAME'])\n"
   ]
  },
  {
   "cell_type": "code",
   "execution_count": 12,
   "metadata": {},
   "outputs": [],
   "source": [
    "categorical = ['TLD',  'Title', 'Domain','URL',  'IsDomainIP', 'HasObfuscation', 'IsHTTPS', 'HasTitle', 'HasFavicon', 'Robots', 'IsResponsive', 'HasDescription', 'HasExternalFormSubmit', 'HasSocialNet', 'HasSubmitButton', 'HasHiddenFields', 'HasPasswordField', 'Bank', 'Pay', 'Crypto', 'HasCopyrightInfo']\n",
    "\n",
    "non_categorical = [col for col in train_df.columns if col not in categorical]"
   ]
  },
  {
   "cell_type": "markdown",
   "metadata": {
    "id": "gvx-gT3bLfHM"
   },
   "source": [
    "# 1. Split Training Set and Validation Set\n",
    "\n",
    "Splitting the training and validation set works as an early diagnostic towards the performance of the model we train. This is done before the preprocessing steps to **avoid data leakage inbetween the sets**. If you want to use k-fold cross-validation, split the data later and do the cleaning and preprocessing separately for each split.\n",
    "\n",
    "Note: For training, you should use the data contained in the `train` folder given by the TA. The `test` data is only used for kaggle submission."
   ]
  },
  {
   "cell_type": "code",
   "execution_count": 13,
   "metadata": {
    "id": "4yWCUFFBLfHM"
   },
   "outputs": [],
   "source": [
    "train_set, val_set = train_test_split(train_df, test_size=0.3,stratify=train_df['label'], random_state=42)"
   ]
  },
  {
   "cell_type": "code",
   "execution_count": null,
   "metadata": {
    "colab": {
     "base_uri": "https://localhost:8080/",
     "height": 443
    },
    "id": "qjnOCJEL-h2s",
    "outputId": "d397aae1-bd11-4a21-e576-154553aea095"
   },
   "outputs": [],
   "source": [
    "train_set"
   ]
  },
  {
   "cell_type": "code",
   "execution_count": null,
   "metadata": {
    "colab": {
     "base_uri": "https://localhost:8080/",
     "height": 461
    },
    "id": "P_--5lrW-j67",
    "outputId": "ff051394-2b77-4029-c485-9e7de624f580"
   },
   "outputs": [],
   "source": [
    "val_set"
   ]
  },
  {
   "cell_type": "markdown",
   "metadata": {
    "id": "IC14lmo_LfHN"
   },
   "source": [
    "# 2. Data Cleaning and Preprocessing\n",
    "\n",
    "This step is the first thing to be done once a Data Scientist have grasped a general knowledge of the data. Raw data is **seldom ready for training**, therefore steps need to be taken to clean and format the data for the Machine Learning model to interpret.\n",
    "\n",
    "By performing data cleaning and preprocessing, you ensure that your dataset is ready for model training, leading to more accurate and reliable machine learning results. These steps are essential for transforming raw data into a format that machine learning algorithms can effectively learn from and make predictions.\n",
    "\n",
    "We will give some common methods for you to try, but you only have to **at least implement one method for each process**. For each step that you will do, **please explain the reason why did you do that process. Write it in a markdown cell under the code cell you wrote.**"
   ]
  },
  {
   "cell_type": "markdown",
   "metadata": {
    "id": "p95_A8hSLfHY"
   },
   "source": [
    "## A. Data Cleaning\n",
    "\n",
    "**Data cleaning** is the crucial first step in preparing your dataset for machine learning. Raw data collected from various sources is often messy and may contain errors, missing values, and inconsistencies. Data cleaning involves the following steps:\n",
    "\n",
    "1. **Handling Missing Data:** Identify and address missing values in the dataset. This can include imputing missing values, removing rows or columns with excessive missing data, or using more advanced techniques like interpolation.\n",
    "\n",
    "2. **Dealing with Outliers:** Identify and handle outliers, which are data points significantly different from the rest of the dataset. Outliers can be removed or transformed to improve model performance.\n",
    "\n",
    "3. **Data Validation:** Check for data integrity and consistency. Ensure that data types are correct, categorical variables have consistent labels, and numerical values fall within expected ranges.\n",
    "\n",
    "4. **Removing Duplicates:** Identify and remove duplicate rows, as they can skew the model's training process and evaluation metrics.\n",
    "\n",
    "5. **Feature Engineering**: Create new features or modify existing ones to extract relevant information. This step can involve scaling, normalizing, or encoding features for better model interpretability."
   ]
  },
  {
   "cell_type": "markdown",
   "metadata": {
    "id": "_wruGao9LfHZ"
   },
   "source": [
    "### I. Handling Missing Data\n",
    "\n",
    "Missing data can adversely affect the performance and accuracy of machine learning models. There are several strategies to handle missing data in machine learning:\n",
    "\n",
    "1. **Data Imputation:**\n",
    "\n",
    "    a. **Mean, Median, or Mode Imputation:** For numerical features, you can replace missing values with the mean, median, or mode of the non-missing values in the same feature. This method is simple and often effective when data is missing at random.\n",
    "\n",
    "    b. **Constant Value Imputation:** You can replace missing values with a predefined constant value (e.g., 0) if it makes sense for your dataset and problem.\n",
    "\n",
    "    c. **Imputation Using Predictive Models:** More advanced techniques involve using predictive models to estimate missing values. For example, you can train a regression model to predict missing numerical values or a classification model to predict missing categorical values.\n",
    "\n",
    "2. **Deletion of Missing Data:**\n",
    "\n",
    "    a. **Listwise Deletion:** In cases where the amount of missing data is relatively small, you can simply remove rows with missing values from your dataset. However, this approach can lead to a loss of valuable information.\n",
    "\n",
    "    b. **Column (Feature) Deletion:** If a feature has a large number of missing values and is not critical for your analysis, you can consider removing that feature altogether.\n",
    "\n",
    "3. **Domain-Specific Strategies:**\n",
    "\n",
    "    a. **Domain Knowledge:** In some cases, domain knowledge can guide the imputation process. For example, if you know that missing values are related to a specific condition, you can impute them accordingly.\n",
    "\n",
    "4. **Imputation Libraries:**\n",
    "\n",
    "    a. **Scikit-Learn:** Scikit-Learn provides a `SimpleImputer` class that can handle basic imputation strategies like mean, median, and mode imputation.\n",
    "\n",
    "    b. **Fancyimpute:** Fancyimpute is a Python library that offers more advanced imputation techniques, including matrix factorization, k-nearest neighbors, and deep learning-based methods.\n",
    "\n",
    "The choice of imputation method should be guided by the nature of your data, the amount of missing data, the problem you are trying to solve, and the assumptions you are willing to make."
   ]
  },
  {
   "cell_type": "markdown",
   "metadata": {},
   "source": [
    "Identify Missing Values"
   ]
  },
  {
   "cell_type": "code",
   "execution_count": null,
   "metadata": {},
   "outputs": [],
   "source": [
    "missing_percent = (train_set.isnull().sum() / len(train_set)) * 100\n",
    "print(\"Persentase missing values:\")\n",
    "print(missing_percent)"
   ]
  },
  {
   "cell_type": "markdown",
   "metadata": {},
   "source": [
    "Data Imputation"
   ]
  },
  {
   "cell_type": "code",
   "execution_count": null,
   "metadata": {
    "id": "ucZNfCkiLfHZ"
   },
   "outputs": [],
   "source": [
    "if 'URL' in train_set.columns:\n",
    "    most_frequent_url = train_set['URL'].mode()[0]\n",
    "\n",
    "    mask_both_missing = pd.isna(train_set['IsHTTPS']) & pd.isna(train_set['Domain'])\n",
    "    train_set.loc[mask_both_missing & pd.isna(train_set['URL']), 'URL'] = most_frequent_url\n",
    "\n",
    "    mask_one_exists = ((pd.notna(train_set['IsHTTPS']) & pd.isna(train_set['Domain'])) | \n",
    "            (pd.isna(train_set['IsHTTPS']) & pd.notna(train_set['Domain'])))\n",
    "    train_set.loc[mask_one_exists & pd.isna(train_set['URL']), 'URL'] = most_frequent_url\n",
    "\n",
    "for index, row in train_set.iterrows():\n",
    "    if pd.notna(row['URL']):\n",
    "        try:\n",
    "            train_set.at[index, 'IsHTTPS'] = 1 if row['URL'].startswith('https://') else 0\n",
    "            \n",
    "            parsed = urlparse(row['URL'])\n",
    "            if not parsed.netloc:\n",
    "                parsed = urlparse(\"http://\" + row['URL'])\n",
    "            \n",
    "            domain = parsed.netloc or parsed.path\n",
    "\n",
    "            if '.' in domain:\n",
    "                tld = domain.split('.')[-1]\n",
    "                \n",
    "                if pd.isna(train_set.at[index, 'Domain']):\n",
    "                    train_set.at[index, 'Domain'] = domain\n",
    "                if pd.isna(train_set.at[index, 'TLD']):\n",
    "                    train_set.at[index, 'TLD'] = tld\n",
    "        except:\n",
    "            continue\n",
    "    elif pd.notna(row['Domain']) and pd.isna(row['TLD']):\n",
    "        domain = row['Domain']\n",
    "        if '.' in domain:\n",
    "            train_set.at[index, 'TLD'] = domain.split('.')[-1]\n",
    "    \n",
    "    if pd.isna(row['URL']) and pd.notna(row['Domain']) and pd.notna(row['IsHTTPS']):\n",
    "        protocol = 'https://' if row['IsHTTPS'] == 1 else 'http://'\n",
    "        train_set.at[index, 'URL'] = f\"{protocol}www.{row['Domain']}\"\n",
    "\n",
    "if 'URL' in train_set.columns:\n",
    "    mask = train_set['URL'].notna()\n",
    "    train_set.loc[mask, 'URLLength'] = train_set.loc[mask, 'URL'].str.len()\n",
    "    \n",
    "    train_set.loc[mask, 'NoOfLettersInURL'] = train_set.loc[mask, 'URL'].str.count('[a-zA-Z]')\n",
    "    train_set.loc[mask, 'NoOfDegitsInURL'] = train_set.loc[mask, 'URL'].str.count('[0-9]')\n",
    "    train_set.loc[mask, 'NoOfEqualsInURL'] = train_set.loc[mask, 'URL'].str.count('=')\n",
    "    train_set.loc[mask, 'NoOfQMarkInURL'] = train_set.loc[mask, 'URL'].str.count(r'\\?')\n",
    "    train_set.loc[mask, 'NoOfAmpersandInURL'] = train_set.loc[mask, 'URL'].str.count('&')\n",
    "    \n",
    "    url_lengths = train_set.loc[mask, 'URL'].str.len()\n",
    "    train_set.loc[mask, 'LetterRatioInURL'] = train_set.loc[mask, 'NoOfLettersInURL'] / url_lengths\n",
    "    train_set.loc[mask, 'DegitRatioInURL'] = train_set.loc[mask, 'NoOfDegitsInURL'] / url_lengths\n",
    "    \n",
    "    special_chars_pattern = '[^a-zA-Z0-9=?&]'\n",
    "    train_set.loc[mask, 'NoOfOtherSpecialCharsInURL'] = train_set.loc[mask, 'URL'].str.count(special_chars_pattern)\n",
    "    train_set.loc[mask, 'SpacialCharRatioInURL'] = train_set.loc[mask, 'NoOfOtherSpecialCharsInURL'] / url_lengths\n",
    "    \n",
    "    char_series = train_set.loc[mask, 'URL']\n",
    "    continuation_rates = []\n",
    "    \n",
    "    for url in char_series:\n",
    "        if len(url) < 2:\n",
    "            continuation_rates.append(0)\n",
    "        else:\n",
    "            continuous = sum(1 for i in range(len(url)-1) if url[i] == url[i+1])\n",
    "            continuation_rates.append(continuous / (len(url)-1))\n",
    "    \n",
    "    train_set.loc[mask, 'CharContinuationRate'] = continuation_rates\n",
    "\n",
    "if 'Domain' in train_set.columns:\n",
    "    mask = train_set['Domain'].notna()\n",
    "    train_set.loc[mask, 'DomainLength'] = train_set.loc[mask, 'Domain'].str.len()\n",
    "    \n",
    "    train_set.loc[mask, 'IsDomainIP'] = train_set.loc[mask, 'Domain'].apply(\n",
    "        lambda x: float(bool(re.match(r'^(?:[0-9]{1,3}\\.){3}[0-9]{1,3}$', str(x)))))\n",
    "    \n",
    "    train_set.loc[mask, 'NoOfSubDomain'] = train_set.loc[mask, 'Domain'].str.count(r'\\.')\n",
    "\n",
    "if 'TLD' in train_set.columns:\n",
    "    mask = train_set['TLD'].notna()\n",
    "    train_set.loc[mask, 'TLDLength'] = train_set.loc[mask, 'TLD'].str.len()\n",
    "\n",
    "mask = train_set['NoOfObfuscatedChar'] == 0\n",
    "train_set.loc[mask & train_set['HasObfuscation'].isna(), 'HasObfuscation'] = 0\n",
    "\n",
    "mask = train_set['NoOfObfuscatedChar'] > 0\n",
    "train_set.loc[mask & train_set['HasObfuscation'].isna(), 'HasObfuscation'] = 1\n",
    "\n",
    "mask = train_set['NoOfURLRedirect'].notna() & train_set['NoOfSelfRedirect'].notna()\n",
    "invalid_mask = mask & (train_set['NoOfSelfRedirect'] > train_set['NoOfURLRedirect'])\n",
    "train_set.loc[invalid_mask, 'NoOfSelfRedirect'] = train_set.loc[invalid_mask, 'NoOfURLRedirect']\n",
    "\n",
    "mask = train_set['NoOfExternalRef'] > 0\n",
    "train_set.loc[mask & train_set['HasExternalFormSubmit'].isna(), 'HasExternalFormSubmit'] = 1\n",
    "\n",
    "mask = train_set['NoOfExternalRef'] == 0\n",
    "train_set.loc[mask & train_set['HasExternalFormSubmit'].isna(), 'HasExternalFormSubmit'] = 0\n",
    "\n",
    "mask = train_set['Title'].notna()\n",
    "train_set.loc[mask & train_set['HasTitle'].isna(), 'HasTitle'] = 1\n",
    "train_set.loc[~mask & train_set['HasTitle'].isna(), 'HasTitle'] = 0\n",
    "\n",
    "boolean_cols = ['HasObfuscation', 'IsHTTPS', 'HasTitle',\n",
    "                'HasFavicon', 'IsResponsive', 'HasDescription',\n",
    "                'HasExternalFormSubmit', 'HasSocialNet', 'HasSubmitButton',\n",
    "                'HasHiddenFields', 'HasPasswordField', 'HasCopyrightInfo']\n",
    "\n",
    "count_cols = ['NoOfObfuscatedChar', 'NoOfURLRedirect', 'NoOfSelfRedirect', 'NoOfPopup',\n",
    "              'NoOfiFrame', 'NoOfImage', 'NoOfCSS', 'NoOfJS',\n",
    "              'NoOfSelfRef', 'NoOfEmptyRef', 'NoOfExternalRef']\n",
    "\n",
    "for col in boolean_cols:\n",
    "    if col in train_set.columns and train_set[col].isnull().any():\n",
    "        train_set[col] = train_set[col].fillna(train_set[col].mode()[0])\n",
    "\n",
    "for col in count_cols:\n",
    "    if col in train_set.columns and train_set[col].isnull().any():\n",
    "        train_set[col] = train_set[col].fillna(train_set[col].median())\n",
    "\n",
    "numerical_cols = train_set.select_dtypes(include=['float64', 'int64']).columns\n",
    "remaining_cols = [col for col in numerical_cols if col not in boolean_cols + count_cols]\n",
    "for col in remaining_cols:\n",
    "    if train_set[col].isnull().any():\n",
    "        train_set[col] = train_set[col].fillna(train_set[col].median())\n",
    "\n",
    "print(\"\\nJumlah missing values setelah diisi:\")\n",
    "print(train_set.isnull().sum())"
   ]
  },
  {
   "cell_type": "code",
   "execution_count": null,
   "metadata": {},
   "outputs": [],
   "source": [
    "if 'URL' in val_set.columns:\n",
    "    most_frequent_url = val_set['URL'].mode()[0]\n",
    "\n",
    "    mask_both_missing = pd.isna(val_set['IsHTTPS']) & pd.isna(val_set['Domain'])\n",
    "    val_set.loc[mask_both_missing & pd.isna(val_set['URL']), 'URL'] = most_frequent_url\n",
    "\n",
    "    mask_one_exists = ((pd.notna(val_set['IsHTTPS']) & pd.isna(val_set['Domain'])) | \n",
    "            (pd.isna(val_set['IsHTTPS']) & pd.notna(val_set['Domain'])))\n",
    "    val_set.loc[mask_one_exists & pd.isna(val_set['URL']), 'URL'] = most_frequent_url\n",
    "\n",
    "for index, row in val_set.iterrows():\n",
    "    if pd.notna(row['URL']):\n",
    "        try:\n",
    "            val_set.at[index, 'IsHTTPS'] = 1 if row['URL'].startswith('https://') else 0\n",
    "            parsed = urlparse(row['URL'])\n",
    "            if not parsed.netloc:\n",
    "                parsed = urlparse(\"http://\" + row['URL'])\n",
    "            domain = parsed.netloc or parsed.path\n",
    "            if '.' in domain:\n",
    "                tld = domain.split('.')[-1]\n",
    "                if pd.isna(val_set.at[index, 'Domain']):\n",
    "                    val_set.at[index, 'Domain'] = domain\n",
    "                if pd.isna(val_set.at[index, 'TLD']):\n",
    "                    val_set.at[index, 'TLD'] = tld\n",
    "        except:\n",
    "            continue\n",
    "    elif pd.notna(row['Domain']) and pd.isna(row['TLD']):\n",
    "        domain = row['Domain']\n",
    "        if '.' in domain:\n",
    "            val_set.at[index, 'TLD'] = domain.split('.')[-1]\n",
    "    if pd.isna(row['URL']) and pd.notna(row['Domain']) and pd.notna(row['IsHTTPS']):\n",
    "        protocol = 'https://' if row['IsHTTPS'] == 1 else 'http://'\n",
    "        val_set.at[index, 'URL'] = f\"{protocol}www.{row['Domain']}\"\n",
    "\n",
    "if 'URL' in val_set.columns:\n",
    "    mask = val_set['URL'].notna()\n",
    "    val_set.loc[mask, 'URLLength'] = val_set.loc[mask, 'URL'].str.len()\n",
    "    val_set.loc[mask, 'NoOfLettersInURL'] = val_set.loc[mask, 'URL'].str.count('[a-zA-Z]')\n",
    "    val_set.loc[mask, 'NoOfDegitsInURL'] = val_set.loc[mask, 'URL'].str.count('[0-9]')\n",
    "    val_set.loc[mask, 'NoOfEqualsInURL'] = val_set.loc[mask, 'URL'].str.count('=')\n",
    "    val_set.loc[mask, 'NoOfQMarkInURL'] = val_set.loc[mask, 'URL'].str.count(r'\\?')\n",
    "    val_set.loc[mask, 'NoOfAmpersandInURL'] = val_set.loc[mask, 'URL'].str.count('&')\n",
    "    url_lengths = val_set.loc[mask, 'URL'].str.len()\n",
    "    val_set.loc[mask, 'LetterRatioInURL'] = val_set.loc[mask, 'NoOfLettersInURL'] / url_lengths\n",
    "    val_set.loc[mask, 'DegitRatioInURL'] = val_set.loc[mask, 'NoOfDegitsInURL'] / url_lengths\n",
    "    special_chars_pattern = '[^a-zA-Z0-9=?&]'\n",
    "    val_set.loc[mask, 'NoOfOtherSpecialCharsInURL'] = val_set.loc[mask, 'URL'].str.count(special_chars_pattern)\n",
    "    val_set.loc[mask, 'SpacialCharRatioInURL'] = val_set.loc[mask, 'NoOfOtherSpecialCharsInURL'] / url_lengths\n",
    "    char_series = val_set.loc[mask, 'URL']\n",
    "    continuation_rates = []\n",
    "    for url in char_series:\n",
    "        if len(url) < 2:\n",
    "            continuation_rates.append(0)\n",
    "        else:\n",
    "            continuous = sum(1 for i in range(len(url)-1) if url[i] == url[i+1])\n",
    "            continuation_rates.append(continuous / (len(url)-1))\n",
    "    val_set.loc[mask, 'CharContinuationRate'] = continuation_rates\n",
    "\n",
    "if 'Domain' in val_set.columns:\n",
    "    mask = val_set['Domain'].notna()\n",
    "    val_set.loc[mask, 'DomainLength'] = val_set.loc[mask, 'Domain'].str.len()\n",
    "    val_set.loc[mask, 'IsDomainIP'] = val_set.loc[mask, 'Domain'].apply(\n",
    "        lambda x: float(bool(re.match(r'^(?:[0-9]{1,3}\\.){3}[0-9]{1,3}$', str(x)))))\n",
    "    val_set.loc[mask, 'NoOfSubDomain'] = val_set.loc[mask, 'Domain'].str.count(r'\\.')\n",
    "\n",
    "if 'TLD' in val_set.columns:\n",
    "    mask = val_set['TLD'].notna()\n",
    "    val_set.loc[mask, 'TLDLength'] = val_set.loc[mask, 'TLD'].str.len()\n",
    "\n",
    "mask = val_set['NoOfObfuscatedChar'] == 0\n",
    "val_set.loc[mask & val_set['HasObfuscation'].isna(), 'HasObfuscation'] = 0\n",
    "mask = val_set['NoOfObfuscatedChar'] > 0\n",
    "val_set.loc[mask & val_set['HasObfuscation'].isna(), 'HasObfuscation'] = 1\n",
    "\n",
    "mask = val_set['NoOfURLRedirect'].notna() & val_set['NoOfSelfRedirect'].notna()\n",
    "invalid_mask = mask & (val_set['NoOfSelfRedirect'] > val_set['NoOfURLRedirect'])\n",
    "val_set.loc[invalid_mask, 'NoOfSelfRedirect'] = val_set.loc[invalid_mask, 'NoOfURLRedirect']\n",
    "\n",
    "mask = val_set['NoOfExternalRef'] > 0\n",
    "val_set.loc[mask & val_set['HasExternalFormSubmit'].isna(), 'HasExternalFormSubmit'] = 1\n",
    "mask = val_set['NoOfExternalRef'] == 0\n",
    "val_set.loc[mask & val_set['HasExternalFormSubmit'].isna(), 'HasExternalFormSubmit'] = 0\n",
    "\n",
    "mask = val_set['Title'].notna()\n",
    "val_set.loc[mask & val_set['HasTitle'].isna(), 'HasTitle'] = 1\n",
    "val_set.loc[~mask & val_set['HasTitle'].isna(), 'HasTitle'] = 0\n",
    "\n",
    "boolean_cols = ['HasObfuscation', 'IsHTTPS', 'HasTitle',\n",
    "                'HasFavicon', 'IsResponsive', 'HasDescription',\n",
    "                'HasExternalFormSubmit', 'HasSocialNet', 'HasSubmitButton',\n",
    "                'HasHiddenFields', 'HasPasswordField', 'HasCopyrightInfo']\n",
    "\n",
    "count_cols = ['NoOfObfuscatedChar', 'NoOfURLRedirect', 'NoOfSelfRedirect', 'NoOfPopup',\n",
    "              'NoOfiFrame', 'NoOfImage', 'NoOfCSS', 'NoOfJS',\n",
    "              'NoOfSelfRef', 'NoOfEmptyRef', 'NoOfExternalRef']\n",
    "\n",
    "for col in boolean_cols:\n",
    "    if col in val_set.columns and val_set[col].isnull().any():\n",
    "        val_set[col] = val_set[col].fillna(val_set[col].mode()[0])\n",
    "\n",
    "for col in count_cols:\n",
    "    if col in val_set.columns and val_set[col].isnull().any():\n",
    "        val_set[col] = val_set[col].fillna(val_set[col].median())\n",
    "\n",
    "numerical_cols = val_set.select_dtypes(include=['float64', 'int64']).columns\n",
    "remaining_cols = [col for col in numerical_cols if col not in boolean_cols + count_cols]\n",
    "for col in remaining_cols:\n",
    "    if val_set[col].isnull().any():\n",
    "        val_set[col] = val_set[col].fillna(val_set[col].median())\n",
    "\n",
    "print(\"\\nJumlah missing values setelah diisi:\")\n",
    "print(val_set.isnull().sum())\n"
   ]
  },
  {
   "cell_type": "markdown",
   "metadata": {
    "id": "zgrSMcK75VY_"
   },
   "source": [
    "### II. Dealing with Outliers\n",
    "\n",
    "Outliers are data points that significantly differ from the majority of the data. They can be unusually high or low values that do not fit the pattern of the rest of the dataset. Outliers can significantly impact model performance, so it is important to handle them properly.\n",
    "\n",
    "Some methods to handle outliers:\n",
    "1. **Imputation**: Replace with mean, median, or a boundary value.\n",
    "2. **Clipping**: Cap values to upper and lower limits.\n",
    "3. **Transformation**: Use log, square root, or power transformations to reduce their influence.\n",
    "4. **Model-Based**: Use algorithms robust to outliers (e.g., tree-based models, Huber regression)."
   ]
  },
  {
   "cell_type": "code",
   "execution_count": 19,
   "metadata": {},
   "outputs": [],
   "source": [
    "import numpy as np\n",
    "\n",
    "def handle_outliers(df, non_categorical, label_value, threshold_percentage=0.03):\n",
    "    subset = df[df['label'] == label_value].copy()\n",
    "    outlier = True\n",
    "    while outlier:\n",
    "        change = False\n",
    "        for col in non_categorical:\n",
    "            if subset[col].skew() > 1 or subset[col].skew() < -1:\n",
    "                Q1 = subset[col].quantile(0.25)\n",
    "                Q3 = subset[col].quantile(0.75)\n",
    "                IQR = Q3 - Q1\n",
    "                outlier_indices = subset[(subset[col] < Q1 - 1.5 * IQR) | (subset[col] > Q3 + 1.5 * IQR)].index\n",
    "            else:\n",
    "                z_scores = np.abs((subset[col] - subset[col].mean()) / subset[col].std())\n",
    "                outlier_indices = subset[z_scores > 3].index\n",
    "            \n",
    "            outlier_percentage = len(outlier_indices) / len(subset)\n",
    "            if 0 < outlier_percentage < threshold_percentage:\n",
    "                subset = subset.drop(outlier_indices)\n",
    "                change = True\n",
    "            elif outlier_percentage > threshold_percentage:\n",
    "                Q1 = subset[col].quantile(0.25)\n",
    "                Q3 = subset[col].quantile(0.75)\n",
    "                IQR = Q3 - Q1\n",
    "                lower_bound = Q1 - 1.5 * IQR\n",
    "                upper_bound = Q3 + 1.5 * IQR\n",
    "\n",
    "                subset[col] = np.where(subset[col] < lower_bound, lower_bound, subset[col])\n",
    "                subset[col] = np.where(subset[col] > upper_bound, upper_bound, subset[col])\n",
    "        \n",
    "        print(f\"change for label {label_value}: {change}\")\n",
    "        if not change:\n",
    "            outlier = False\n",
    "        \n",
    "        subset.reset_index(drop=True, inplace=True)\n",
    "    \n",
    "    return subset\n"
   ]
  },
  {
   "cell_type": "markdown",
   "metadata": {},
   "source": [
    "Dipisah-pisah dengan tujuan si yang label 0 ga kehapus karena dianggap outlier"
   ]
  },
  {
   "cell_type": "code",
   "execution_count": null,
   "metadata": {},
   "outputs": [],
   "source": [
    "train_label_1 = handle_outliers(train_set, non_categorical, label_value=1)\n",
    "train_label_0 = handle_outliers(train_set, non_categorical, label_value=0)\n",
    "\n",
    "train_set_cleaned = pd.concat([train_label_1, train_label_0], ignore_index=True)\n",
    "\n",
    "val_label_1 = handle_outliers(val_set, non_categorical, label_value=1)\n",
    "\n",
    "val_label_0 = handle_outliers(val_set, non_categorical, label_value=0)\n",
    "val_set_cleaned = pd.concat([val_label_1, val_label_0], ignore_index=True)\n",
    "\n",
    "print(\"\\ntraining set label outlier handling:\")\n",
    "print(train_set_cleaned['label'].value_counts())\n",
    "\n",
    "print(\"\\nval set label distribution outlier handling:\")\n",
    "print(val_set_cleaned['label'].value_counts())\n",
    "\n",
    "train_set = train_set_cleaned\n",
    "val_set = val_set_cleaned\n"
   ]
  },
  {
   "cell_type": "markdown",
   "metadata": {
    "id": "aO0ZEZ-s6Lu-"
   },
   "source": [
    "### III. Remove Duplicates\n",
    "Handling duplicate values is crucial because they can compromise data integrity, leading to inaccurate analysis and insights. Duplicate entries can bias machine learning models, causing overfitting and reducing their ability to generalize to new data. They also inflate the dataset size unnecessarily, increasing computational costs and processing times. Additionally, duplicates can distort statistical measures and lead to inconsistencies, ultimately affecting the reliability of data-driven decisions and reporting. Ensuring data quality by removing duplicates is essential for accurate, efficient, and consistent analysis."
   ]
  },
  {
   "cell_type": "code",
   "execution_count": null,
   "metadata": {},
   "outputs": [],
   "source": [
    "jumlah_duplikat = train_set.duplicated().sum()\n",
    "print(f\"Jumlah baris duplikat: {jumlah_duplikat}\")"
   ]
  },
  {
   "cell_type": "code",
   "execution_count": null,
   "metadata": {},
   "outputs": [],
   "source": [
    "jumlah_duplikat = val_set.duplicated().sum()\n",
    "print(f\"Jumlah baris duplikat: {jumlah_duplikat}\")"
   ]
  },
  {
   "cell_type": "code",
   "execution_count": 23,
   "metadata": {
    "id": "BHCkkZ-v7iF8"
   },
   "outputs": [],
   "source": [
    "train_set = train_set.drop_duplicates()"
   ]
  },
  {
   "cell_type": "code",
   "execution_count": 24,
   "metadata": {},
   "outputs": [],
   "source": [
    "val_set = val_set.drop_duplicates()"
   ]
  },
  {
   "cell_type": "code",
   "execution_count": null,
   "metadata": {},
   "outputs": [],
   "source": [
    "jumlah_duplikat = train_set.duplicated().sum()\n",
    "print(f\"Jumlah baris duplikat: {jumlah_duplikat}\")"
   ]
  },
  {
   "cell_type": "code",
   "execution_count": null,
   "metadata": {},
   "outputs": [],
   "source": [
    "jumlah_duplikat = val_set.duplicated().sum()\n",
    "print(f\"Jumlah baris duplikat: {jumlah_duplikat}\")"
   ]
  },
  {
   "cell_type": "markdown",
   "metadata": {
    "id": "eycPASmMLfHa"
   },
   "source": [
    "### IV. Feature Engineering\n",
    "\n",
    "**Feature engineering** involves creating new features (input variables) or transforming existing ones to improve the performance of machine learning models. Feature engineering aims to enhance the model's ability to learn patterns and make accurate predictions from the data. It's often said that \"good features make good models.\"\n",
    "\n",
    "1. **Feature Selection:** Feature engineering can involve selecting the most relevant and informative features from the dataset. Removing irrelevant or redundant features not only simplifies the model but also reduces the risk of overfitting.\n",
    "\n",
    "2. **Creating New Features:** Sometimes, the existing features may not capture the underlying patterns effectively. In such cases, engineers create new features that provide additional information. For example:\n",
    "   \n",
    "   - **Polynomial Features:** Engineers may create new features by taking the square, cube, or other higher-order terms of existing numerical features. This can help capture nonlinear relationships.\n",
    "   \n",
    "   - **Interaction Features:** Interaction features are created by combining two or more existing features. For example, if you have features \"length\" and \"width,\" you can create an \"area\" feature by multiplying them.\n",
    "\n",
    "3. **Binning or Discretization:** Continuous numerical features can be divided into bins or categories. For instance, age values can be grouped into bins like \"child,\" \"adult,\" and \"senior.\"\n",
    "\n",
    "4. **Domain-Specific Feature Engineering:** Depending on the domain and problem, engineers may create domain-specific features. For example, in fraud detection, features related to transaction history and user behavior may be engineered to identify anomalies.\n",
    "\n",
    "Feature engineering is both a creative and iterative process. It requires a deep understanding of the data, domain knowledge, and experimentation to determine which features will enhance the model's predictive power."
   ]
  },
  {
   "cell_type": "code",
   "execution_count": null,
   "metadata": {
    "id": "UoXEV6wkLfHa"
   },
   "outputs": [],
   "source": [
    "print(len(train_df.columns))"
   ]
  },
  {
   "cell_type": "code",
   "execution_count": null,
   "metadata": {},
   "outputs": [],
   "source": [
    "# Buat fitur baru dari karakteristik URL\n",
    "if 'URL' in val_set.columns:\n",
    "   # Hitung karakter spesial\n",
    "   val_set['special_char_count'] = val_set['URL'].str.count(r'[^a-zA-Z0-9]').fillna(0)\n",
    "   # Hitung digit\n",
    "   val_set['digit_count'] = val_set['URL'].str.count(r'[0-9]').fillna(0)\n",
    "\n",
    "# Buat fitur interaksi\n",
    "if 'URLLength' in val_set.columns and 'DomainLength' in val_set.columns:\n",
    "   val_set['url_domain_ratio'] = val_set['URLLength'] / val_set['DomainLength'].replace(0, 1)\n",
    "\n",
    "# Buat fitur binary dari TLD\n",
    "if 'TLD' in val_set.columns:\n",
    "   common_tlds = ['com', 'org', 'net', 'edu']\n",
    "   val_set['is_common_tld'] = val_set['TLD'].isin(common_tlds).astype(int)\n",
    "\n",
    "# Buat aggregate features\n",
    "security_cols = ['HasObfuscation', 'IsHTTPS', 'HasHiddenFields']\n",
    "val_set['security_score'] = val_set[security_cols].sum(axis=1)\n",
    "\n",
    "# Cek fitur baru\n",
    "print(\"\\nJumlah kolom setelah feature engineering:\", len(val_set.columns))\n",
    "print(\"\\nBeberapa baris dengan fitur baru:\")\n",
    "print(val_set[['special_char_count', 'digit_count', 'url_domain_ratio',\n",
    "          'is_common_tld', 'security_score']].head())"
   ]
  },
  {
   "cell_type": "code",
   "execution_count": null,
   "metadata": {},
   "outputs": [],
   "source": [
    "# Define the features to drop with reasons\n",
    "features_to_drop = {\n",
    "    #korelasi tinggi\n",
    "    'NoOfLettersInURL': 'almost perfect correlation sama URLLength (0.998)',\n",
    "    'NoOfOtherSpecialCharsInURL': 'strong correlation URLLength (0.876)',\n",
    "    'DomainLength': 'strong correlation URLLength (0.845)',\n",
    "    \n",
    "    # varianceny 0, ga contribute ke modeling\n",
    "    'NoOfObfuscatedChar': 'konstan, std 0',\n",
    "    'URLTitleMatchScore': 'konstan, std 0',\n",
    "    'NoOfURLRedirect': 'konstan, std 0',\n",
    "    'ObfuscationRatio': 'konstan, std 0',\n",
    "    'DomainTitleMatchScore': 'konstan, std 0',\n",
    "    'DegitRatioInURL': 'konstan, std 0',\n",
    "    'NoOfEqualsInURL': 'konstan, std 0',\n",
    "    'HasObfuscation': 'konstan, std 0',\n",
    "    'NoOfSelfRedirect': 'konstan, std 0',\n",
    "    'NoOfPopup': 'konstan, std 0',\n",
    "    'NoOfQMarkInURL': 'konstan, std 0',\n",
    "    'NoOfAmpersandInURL': 'konstan, std 0',\n",
    "    'NoOfDegitsInURL': 'konstan, std 0',\n",
    "    'NoOfSubDomain': 'konstan, std 0',\n",
    "    \n",
    "    # uda kegambarin di feature lain/raw text\n",
    "    'Domain': 'raw text',\n",
    "    'URL': 'raw text',\n",
    "    'Title': 'raw text',\n",
    "    'LetterRatioInURL': 'derived',\n",
    "    'SpacialCharRatioInURL': 'derived',\n",
    "    \n",
    "    # missing too much, low mi\n",
    "    'NoOfCSS': 'High missing values, low importance',\n",
    "    'HasCopyrightInfo': 'High missing values, low importance',\n",
    "    'HasPasswordField': 'High missing values, low importance',\n",
    "    'HasSocialNet': 'High missing values, low importance',\n",
    "    'NoOfExternalRef': 'High missing, info captured in HasExternalFormSubmit'\n",
    "}\n",
    "\n",
    "#drop\n",
    "train_set = train_set.drop(columns=list(features_to_drop.keys()), errors='ignore')\n",
    "val_set = val_set.drop(columns=list(features_to_drop.keys()), errors='ignore')\n",
    "\n",
    "#same columns\n",
    "common_columns = train_set.columns.intersection(val_set.columns)\n",
    "train_set = train_set[common_columns]\n",
    "val_set = val_set[common_columns]\n",
    "\n",
    "#verify\n",
    "print(\"\\nnumber of remaining features:\", len(train_set.columns))\n",
    "print(\"training set:\", train_set.columns.tolist())\n",
    "print(\"validation set:\", val_set.columns.tolist())\n",
    "\n",
    "\n",
    "# shapess\n",
    "print(\"\\nNew shapes:\")\n",
    "print(f\"training set: {train_set.shape}\")\n",
    "print(f\"validation set: {val_set.shape}\")\n"
   ]
  },
  {
   "cell_type": "code",
   "execution_count": null,
   "metadata": {},
   "outputs": [],
   "source": [
    "def engineer_features(dataset):\n",
    "    features = dataset.copy()\n",
    "    \n",
    "    # ui content - ngambil juga dari tucil\n",
    "    ui_features = ['HasFavicon',  'HasSubmitButton', 'HasTitle', 'HasDescription', 'IsResponsive']\n",
    "    features['UIQualityScore'] = features[ui_features].sum(axis=1)\n",
    "    \n",
    "    # terkait duit n pembayaran\n",
    "    financial_features = ['Bank', 'Pay', 'Crypto']\n",
    "    features['FinancialRiskScore'] = (\n",
    "        features[financial_features].sum(axis=1) * \n",
    "        (1 - features['IsHTTPS'])  #kalo ga https worse\n",
    "    )\n",
    "    \n",
    "    # domain\n",
    "    features['DomainTrustScore'] = (\n",
    "        features['TLDLegitimateProb'] * \n",
    "        (1 + features['IsHTTPS']) *  #kalo https kasi plus\n",
    "        (1 - features['IsDomainIP'])  #kalo domainnya ip = veri sus kurangin\n",
    "    )\n",
    "    \n",
    "    # kompleksitas code\n",
    "    features['ContentComplexity'] = (\n",
    "        np.log1p(features['LineOfCode']) * \n",
    "        np.log1p(features['LargestLineLength'])\n",
    "    )\n",
    "    \n",
    "    # ref pattern\n",
    "    features['RefPatternScore'] = (\n",
    "        features['NoOfSelfRef'] / \n",
    "        (features['NoOfSelfRef'] + features['NoOfEmptyRef']).clip(lower=1)\n",
    "    )\n",
    "    \n",
    "    return features\n",
    "\n",
    "train_set_engineered = engineer_features(train_set)\n",
    "val_set_engineered = engineer_features(val_set)\n",
    "\n",
    "train_set = train_set_engineered\n",
    "val_set = val_set_engineered\n",
    "\n",
    "new_features = [\n",
    "    'UIQualityScore',\n",
    "    'FinancialRiskScore',\n",
    "    'DomainTrustScore',\n",
    "    'ContentComplexity',\n",
    "    'RefPatternScore'\n",
    "]\n",
    "\n",
    "print(\"\\ncorrelation with label:\")\n",
    "correlations = train_set_engineered[new_features + ['label']].corr()['label'].drop('label')\n",
    "print(correlations.sort_values(ascending=False))\n",
    "\n",
    "print(\"\\nnew features stats:\")\n",
    "print(train_set_engineered[new_features].describe())\n",
    "\n",
    "# recheck label distribution\n",
    "print(\"label information:\")\n",
    "print(\"Type:\", train_set['label'].dtype)\n",
    "print(\"\\nvalue counts:\")\n",
    "print(train_set['label'].value_counts())\n"
   ]
  },
  {
   "cell_type": "code",
   "execution_count": null,
   "metadata": {},
   "outputs": [],
   "source": [
    "selected_features = [\n",
    "    'RefPatternScore',\n",
    "    'UIQualityScore',\n",
    "    'ContentComplexity'\n",
    "]\n",
    "\n",
    "print(\"\\ncorrelations with label:\")\n",
    "correlations = train_set_engineered[selected_features + ['label']].corr()['label'].drop('label')\n",
    "print(correlations.sort_values(ascending=False))\n",
    "\n",
    "#drop yang korelasi jelek\n",
    "train_set = train_set.drop(columns = ['DomainTrustScore', 'FinancialRiskScore'])\n",
    "val_set = val_set.drop(columns = ['DomainTrustScore', 'FinancialRiskScore'])\n"
   ]
  },
  {
   "cell_type": "markdown",
   "metadata": {
    "id": "xw11_49xLfHb"
   },
   "source": [
    "## B. Data Preprocessing\n",
    "\n",
    "**Data preprocessing** is a broader step that encompasses both data cleaning and additional transformations to make the data suitable for machine learning algorithms. Its primary goals are:\n",
    "\n",
    "1. **Feature Scaling:** Ensure that numerical features have similar scales. Common techniques include Min-Max scaling (scaling to a specific range) or standardization (mean-centered, unit variance).\n",
    "\n",
    "2. **Encoding Categorical Variables:** Machine learning models typically work with numerical data, so categorical variables need to be encoded. This can be done using one-hot encoding, label encoding, or more advanced methods like target encoding.\n",
    "\n",
    "3. **Handling Imbalanced Classes:** If dealing with imbalanced classes in a binary classification task, apply techniques such as oversampling, undersampling, or using different evaluation metrics to address class imbalance.\n",
    "\n",
    "4. **Dimensionality Reduction:** Reduce the number of features using techniques like Principal Component Analysis (PCA) or feature selection to simplify the model and potentially improve its performance.\n",
    "\n",
    "5. **Normalization:** Normalize data to achieve a standard distribution. This is particularly important for algorithms that assume normally distributed data."
   ]
  },
  {
   "cell_type": "markdown",
   "metadata": {},
   "source": [
    "Drop Column that Useless"
   ]
  },
  {
   "cell_type": "markdown",
   "metadata": {
    "id": "rVyVnA1hLfHd"
   },
   "source": [
    "### Notes on Preprocessing processes\n",
    "\n",
    "It is advised to create functions or classes that have the same/similar type of inputs and outputs, so you can add, remove, or swap the order of the processes easily. You can implement the functions or classes by yourself\n",
    "\n",
    "or\n",
    "\n",
    "use `sklearn` library. To create a new preprocessing component in `sklearn`, implement a corresponding class that includes:\n",
    "1. Inheritance to `BaseEstimator` and `TransformerMixin`\n",
    "2. The method `fit`\n",
    "3. The method `transform`"
   ]
  },
  {
   "cell_type": "markdown",
   "metadata": {
    "id": "WhCgOl4xLfHb"
   },
   "source": [
    "### I. Feature Scaling\n",
    "\n",
    "**Feature scaling** is a preprocessing technique used in machine learning to standardize the range of independent variables or features of data. The primary goal of feature scaling is to ensure that all features contribute equally to the training process and that machine learning algorithms can work effectively with the data.\n",
    "\n",
    "Here are the main reasons why feature scaling is important:\n",
    "\n",
    "1. **Algorithm Sensitivity:** Many machine learning algorithms are sensitive to the scale of input features. If the scales of features are significantly different, some algorithms may perform poorly or take much longer to converge.\n",
    "\n",
    "2. **Distance-Based Algorithms:** Algorithms that rely on distances or similarities between data points, such as k-nearest neighbors (KNN) and support vector machines (SVM), can be influenced by feature scales. Features with larger scales may dominate the distance calculations.\n",
    "\n",
    "3. **Regularization:** Regularization techniques, like L1 (Lasso) and L2 (Ridge) regularization, add penalty terms based on feature coefficients. Scaling ensures that all features are treated equally in the regularization process.\n",
    "\n",
    "Common methods for feature scaling include:\n",
    "\n",
    "1. **Min-Max Scaling (Normalization):** This method scales features to a specific range, typically [0, 1]. It's done using the following formula:\n",
    "\n",
    "   $$X' = \\frac{X - X_{min}}{X_{max} - X_{min}}$$\n",
    "\n",
    "   - Here, $X$ is the original feature value, $X_{min}$ is the minimum value of the feature, and $X_{max}$ is the maximum value of the feature.  \n",
    "<br />\n",
    "<br />\n",
    "2. **Standardization (Z-score Scaling):** This method scales features to have a mean (average) of 0 and a standard deviation of 1. It's done using the following formula:\n",
    "\n",
    "   $$X' = \\frac{X - \\mu}{\\sigma}$$\n",
    "\n",
    "   - $X$ is the original feature value, $\\mu$ is the mean of the feature, and $\\sigma$ is the standard deviation of the feature.  \n",
    "<br />\n",
    "<br />\n",
    "3. **Robust Scaling:** Robust scaling is a method that scales features to the interquartile range (IQR) and is less affected by outliers. It's calculated as:\n",
    "\n",
    "   $$X' = \\frac{X - Q1}{Q3 - Q1}$$\n",
    "\n",
    "   - $X$ is the original feature value, $Q1$ is the first quartile (25th percentile), and $Q3$ is the third quartile (75th percentile) of the feature.  \n",
    "<br />\n",
    "<br />\n",
    "4. **Log Transformation:** In cases where data is highly skewed or has a heavy-tailed distribution, taking the logarithm of the feature values can help stabilize the variance and improve scaling.\n",
    "\n",
    "The choice of scaling method depends on the characteristics of your data and the requirements of your machine learning algorithm. **Min-max scaling and standardization are the most commonly used techniques and work well for many datasets.**\n",
    "\n",
    "Scaling should be applied separately to each training and test set to prevent data leakage from the test set into the training set. Additionally, **some algorithms may not require feature scaling, particularly tree-based models.**"
   ]
  },
  {
   "cell_type": "code",
   "execution_count": 32,
   "metadata": {},
   "outputs": [],
   "source": [
    "class NumericStandardScaler(BaseEstimator, TransformerMixin):\n",
    "    def __init__(self, exclude_label='label', label_column='label'):\n",
    "        self.exclude_label = exclude_label\n",
    "        self.label_column = label_column\n",
    "        self.scaler = StandardScaler()\n",
    "\n",
    "    def fit(self, X, y=None):\n",
    "        X_numeric = X.select_dtypes(include=['float64', 'int64'])\n",
    "\n",
    "        if self.exclude_label and self.label_column in X_numeric.columns:\n",
    "            X_numeric = X_numeric.drop(columns=[self.label_column])\n",
    "\n",
    "        X_numeric = check_array(X_numeric, dtype=np.float64)\n",
    "\n",
    "        self.numeric_cols = [\n",
    "            col for col in X.select_dtypes(include=['float64', 'int64']).columns\n",
    "            if col != self.label_column\n",
    "        ]\n",
    "\n",
    "        self.scaler.fit(X_numeric)\n",
    "        return self\n",
    "\n",
    "    def transform(self, X):\n",
    "        X_transformed = X.copy()\n",
    "        X_transformed[self.numeric_cols] = self.scaler.transform(\n",
    "            X_transformed[self.numeric_cols]\n",
    "        )\n",
    "        return X_transformed"
   ]
  },
  {
   "cell_type": "code",
   "execution_count": 33,
   "metadata": {},
   "outputs": [],
   "source": [
    "class NumericMinMaxScaler(BaseEstimator, TransformerMixin):\n",
    "      def __init__(self, exclude_label=True, label_column='label', exclude_id=True, id_column='id'):\n",
    "          self.exclude_label = exclude_label\n",
    "          self.label_column = label_column\n",
    "          self.exclude_id = exclude_id\n",
    "          self.id_column = id_column\n",
    "          self.scaler = MinMaxScaler()\n",
    "  \n",
    "      def fit(self, X, y=None):\n",
    "          self.numeric_cols_ = X.select_dtypes(include=['float64', 'int64']).columns\n",
    "          \n",
    "          if self.exclude_label and self.label_column in self.numeric_cols_:\n",
    "              self.numeric_cols_ = self.numeric_cols_.drop(self.label_column)\n",
    "  \n",
    "          if self.exclude_id and self.id_column in self.numeric_cols_:\n",
    "              self.numeric_cols_ = self.numeric_cols_.drop(self.id_column)\n",
    "  \n",
    "          if len(self.numeric_cols_) > 0:\n",
    "              self.scaler.fit(X[self.numeric_cols_])\n",
    "              self.is_fitted_ = True\n",
    "          return self\n",
    "  \n",
    "      def transform(self, X):\n",
    "          check_is_fitted(self, 'is_fitted_')\n",
    "  \n",
    "          X_transformed = X.copy()\n",
    "          if len(self.numeric_cols_) > 0:\n",
    "              scaled_data = self.scaler.transform(X_transformed[self.numeric_cols_])\n",
    "              X_transformed[self.numeric_cols_] = scaled_data\n",
    "          return X_transformed"
   ]
  },
  {
   "cell_type": "markdown",
   "metadata": {
    "id": "f_Lh-4JwLfHc"
   },
   "source": [
    "### II. Feature Encoding\n",
    "\n",
    "**Feature encoding**, also known as **categorical encoding**, is the process of converting categorical data (non-numeric data) into a numerical format so that it can be used as input for machine learning algorithms. Most machine learning models require numerical data for training and prediction, so feature encoding is a critical step in data preprocessing.\n",
    "\n",
    "Categorical data can take various forms, including:\n",
    "\n",
    "1. **Nominal Data:** Categories with no intrinsic order, like colors or country names.  \n",
    "\n",
    "2. **Ordinal Data:** Categories with a meaningful order but not necessarily equidistant, like education levels (e.g., \"high school,\" \"bachelor's,\" \"master's\").\n",
    "\n",
    "There are several common methods for encoding categorical data:\n",
    "\n",
    "1. **Label Encoding:**\n",
    "\n",
    "   - Label encoding assigns a unique integer to each category in a feature.\n",
    "   - It's suitable for ordinal data where there's a clear order among categories.\n",
    "   - For example, if you have an \"education\" feature with values \"high school,\" \"bachelor's,\" and \"master's,\" you can encode them as 0, 1, and 2, respectively.\n",
    "<br />\n",
    "<br />\n",
    "2. **One-Hot Encoding:**\n",
    "\n",
    "   - One-hot encoding creates a binary (0 or 1) column for each category in a nominal feature.\n",
    "   - It's suitable for nominal data where there's no inherent order among categories.\n",
    "   - Each category becomes a new feature, and the presence (1) or absence (0) of a category is indicated for each row.\n",
    "<br />\n",
    "<br />\n",
    "3. **Target Encoding (Mean Encoding):**\n",
    "\n",
    "   - Target encoding replaces each category with the mean of the target variable for that category.\n",
    "   - It's often used for classification problems."
   ]
  },
  {
   "cell_type": "code",
   "execution_count": 34,
   "metadata": {},
   "outputs": [],
   "source": [
    "class FrequencyEncoder(BaseEstimator, TransformerMixin):\n",
    "    def __init__(self, columns=None, drop_original=True):\n",
    "        self.columns = columns\n",
    "        self.drop_original = drop_original\n",
    "\n",
    "    def fit(self, X, y=None):\n",
    "        if self.columns is None:\n",
    "            self.columns_ = X.select_dtypes(include=['object', 'category']).columns.tolist()\n",
    "        else:\n",
    "            self.columns_ = self.columns\n",
    "        \n",
    "        missing_cols = [col for col in self.columns_ if col not in X.columns]\n",
    "        if missing_cols:\n",
    "            raise ValueError(f\"Columns not found in input data: {missing_cols}\")\n",
    "        \n",
    "        self.frequencies_ = {}\n",
    "        for col in self.columns_:\n",
    "            self.frequencies_[col] = X[col].value_counts(normalize=True)\n",
    "        \n",
    "        self.is_fitted_ = True\n",
    "        return self\n",
    "\n",
    "    def transform(self, X):\n",
    "        check_is_fitted(self, 'is_fitted_')\n",
    "        \n",
    "        X_transformed = X.copy()\n",
    "        \n",
    "        missing_cols = [col for col in self.columns_ if col not in X_transformed.columns]\n",
    "        if missing_cols:\n",
    "            raise ValueError(f\"Columns not found in input data during transform: {missing_cols}\")\n",
    "            \n",
    "        for col in self.columns_:\n",
    "            encoded_col_name = f\"{col}_encoded\"\n",
    "            \n",
    "            X_transformed[encoded_col_name] = X_transformed[col].map(self.frequencies_[col])\n",
    "            X_transformed[encoded_col_name] = X_transformed[encoded_col_name].fillna(0)\n",
    "            \n",
    "            if self.drop_original:\n",
    "                X_transformed = X_transformed.drop(columns=[col])\n",
    "        \n",
    "        return X_transformed"
   ]
  },
  {
   "cell_type": "markdown",
   "metadata": {
    "id": "jKQO9wtB8Pc0"
   },
   "source": [
    "### III. Handling Imbalanced Dataset\n",
    "\n",
    "**Handling imbalanced datasets** is important because imbalanced data can lead to several issues that negatively impact the performance and reliability of machine learning models. Here are some key reasons:\n",
    "\n",
    "1. **Biased Model Performance**:\n",
    "\n",
    " - Models trained on imbalanced data tend to be biased towards the majority class, leading to poor performance on the minority class. This can result in misleading accuracy metrics.\n",
    "\n",
    "2. **Misleading Accuracy**:\n",
    "\n",
    " - High overall accuracy can be misleading in imbalanced datasets. For example, if 95% of the data belongs to one class, a model that always predicts the majority class will have 95% accuracy but will fail to identify the minority class.\n",
    "\n",
    "3. **Poor Generalization**:\n",
    "\n",
    " - Models trained on imbalanced data may not generalize well to new, unseen data, especially if the minority class is underrepresented.\n",
    "\n",
    "\n",
    "Some methods to handle imbalanced datasets:\n",
    "1. **Resampling Methods**:\n",
    "\n",
    " - Oversampling: Increase the number of instances in the minority class by duplicating or generating synthetic samples (e.g., SMOTE).\n",
    " - Undersampling: Reduce the number of instances in the majority class to balance the dataset.\n",
    "\n",
    "2. **Evaluation Metrics**:\n",
    "\n",
    " - Use appropriate evaluation metrics such as precision, recall, F1-score, ROC-AUC, and confusion matrix instead of accuracy to better assess model performance on imbalanced data.\n",
    "\n",
    "3. **Algorithmic Approaches**:\n",
    "\n",
    " - Use algorithms that are designed to handle imbalanced data, such as decision trees, random forests, or ensemble methods.\n",
    " - Adjust class weights in algorithms to give more importance to the minority class."
   ]
  },
  {
   "cell_type": "code",
   "execution_count": null,
   "metadata": {},
   "outputs": [],
   "source": [
    "print(\"distribution:\")\n",
    "print(train_df['label'].value_counts())\n",
    "print(\"\\npercentage distribution:\")\n",
    "print(train_df['label'].value_counts(normalize=True) * 100)"
   ]
  },
  {
   "cell_type": "code",
   "execution_count": 36,
   "metadata": {},
   "outputs": [],
   "source": [
    "class SMOTETomekBalancer(BaseEstimator, TransformerMixin):\n",
    "    def __init__(self, label_column='label', random_state=42, sampling_strategy=0.2):\n",
    "        self.label_column = label_column\n",
    "        self.random_state = random_state\n",
    "        self.sampling_strategy = sampling_strategy\n",
    "        self.smotetomek = SMOTETomek(\n",
    "            random_state=self.random_state, \n",
    "            sampling_strategy=self.sampling_strategy\n",
    "        )\n",
    "\n",
    "    def fit(self, X, y=None):\n",
    "        if self.label_column not in X.columns:\n",
    "            raise ValueError(f\"Label column '{self.label_column}' not found in input data\")\n",
    "            \n",
    "        self.feature_names_ = [col for col in X.columns if col != self.label_column]\n",
    "        self.is_fitted_ = True\n",
    "        return self\n",
    "\n",
    "    def transform(self, X):\n",
    "        check_is_fitted(self, 'is_fitted_')\n",
    "        \n",
    "        if self.label_column not in X.columns:\n",
    "            raise ValueError(f\"Label column '{self.label_column}' not found in input data\")\n",
    "\n",
    "        X_features = X.drop(columns=[self.label_column])\n",
    "        y_label = X[self.label_column]\n",
    "        \n",
    "        X_resampled, y_resampled = self.smotetomek.fit_resample(X_features, y_label)\n",
    "        X_resampled_df = pd.DataFrame(X_resampled, columns=self.feature_names_)\n",
    "        y_resampled_df = pd.Series(y_resampled, name=self.label_column)\n",
    "        \n",
    "        return pd.concat([X_resampled_df, y_resampled_df], axis=1)"
   ]
  },
  {
   "cell_type": "markdown",
   "metadata": {
    "id": "-ctVzt5DLfHd"
   },
   "source": [
    "# 3. Compile Preprocessing Pipeline\n",
    "\n",
    "All of the preprocessing classes or functions defined earlier will be compiled in this step."
   ]
  },
  {
   "cell_type": "markdown",
   "metadata": {
    "id": "S_ZlncSVjJG6"
   },
   "source": [
    "If you use sklearn to create preprocessing classes, you can list your preprocessing classes in the Pipeline object sequentially, and then fit and transform your data."
   ]
  },
  {
   "cell_type": "code",
   "execution_count": null,
   "metadata": {},
   "outputs": [],
   "source": [
    "pipe = Pipeline([\n",
    "    (\"frequency_encoder\", FrequencyEncoder(columns=[\"TLD\"], drop_original=True)),\n",
    "    (\"scaler_minmax\", NumericMinMaxScaler()),\n",
    "    (\"balancer\", SMOTETomekBalancer(label_column='label'))\n",
    "])\n",
    "\n",
    "train_set_preprocessed = pipe.fit_transform(train_set)\n",
    "val_set_preprocessed = pipe.transform(val_set)\n",
    "    \n"
   ]
  },
  {
   "cell_type": "code",
   "execution_count": null,
   "metadata": {},
   "outputs": [],
   "source": [
    "train_set_preprocessed.describe()"
   ]
  },
  {
   "cell_type": "code",
   "execution_count": null,
   "metadata": {},
   "outputs": [],
   "source": [
    "val_set_preprocessed.describe()\n"
   ]
  },
  {
   "cell_type": "markdown",
   "metadata": {},
   "source": [
    "# Cleaning & Preprocessing test_df"
   ]
  },
  {
   "cell_type": "markdown",
   "metadata": {},
   "source": [
    "## Cleaning"
   ]
  },
  {
   "cell_type": "markdown",
   "metadata": {},
   "source": [
    "### Handling Missing Value"
   ]
  },
  {
   "cell_type": "code",
   "execution_count": null,
   "metadata": {},
   "outputs": [],
   "source": [
    "if 'URL' in test_df.columns:\n",
    "    most_frequent_url = test_df['URL'].mode()[0]\n",
    "\n",
    "    mask_both_missing = pd.isna(test_df['IsHTTPS']) & pd.isna(test_df['Domain'])\n",
    "    test_df.loc[mask_both_missing & pd.isna(test_df['URL']), 'URL'] = most_frequent_url\n",
    "\n",
    "    mask_one_exists = ((pd.notna(test_df['IsHTTPS']) & pd.isna(test_df['Domain'])) | \n",
    "            (pd.isna(test_df['IsHTTPS']) & pd.notna(test_df['Domain'])))\n",
    "    test_df.loc[mask_one_exists & pd.isna(test_df['URL']), 'URL'] = most_frequent_url\n",
    "\n",
    "for index, row in test_df.iterrows():\n",
    "    if pd.notna(row['URL']):\n",
    "        try:\n",
    "            test_df.at[index, 'IsHTTPS'] = 1 if row['URL'].startswith('https://') else 0\n",
    "            parsed = urlparse(row['URL'])\n",
    "            if not parsed.netloc:\n",
    "                parsed = urlparse(\"http://\" + row['URL'])\n",
    "            domain = parsed.netloc or parsed.path\n",
    "            if '.' in domain:\n",
    "                tld = domain.split('.')[-1]\n",
    "                if pd.isna(test_df.at[index, 'Domain']):\n",
    "                    test_df.at[index, 'Domain'] = domain\n",
    "                if pd.isna(test_df.at[index, 'TLD']):\n",
    "                    test_df.at[index, 'TLD'] = tld\n",
    "        except:\n",
    "            continue\n",
    "    elif pd.notna(row['Domain']) and pd.isna(row['TLD']):\n",
    "        domain = row['Domain']\n",
    "        if '.' in domain:\n",
    "            test_df.at[index, 'TLD'] = domain.split('.')[-1]\n",
    "    if pd.isna(row['URL']) and pd.notna(row['Domain']) and pd.notna(row['IsHTTPS']):\n",
    "        protocol = 'https://' if row['IsHTTPS'] == 1 else 'http://'\n",
    "        test_df.at[index, 'URL'] = f\"{protocol}www.{row['Domain']}\"\n",
    "\n",
    "if 'URL' in test_df.columns:\n",
    "    mask = test_df['URL'].notna()\n",
    "    test_df.loc[mask, 'URLLength'] = test_df.loc[mask, 'URL'].str.len()\n",
    "    test_df.loc[mask, 'NoOfLettersInURL'] = test_df.loc[mask, 'URL'].str.count('[a-zA-Z]')\n",
    "    test_df.loc[mask, 'NoOfDegitsInURL'] = test_df.loc[mask, 'URL'].str.count('[0-9]')\n",
    "    test_df.loc[mask, 'NoOfEqualsInURL'] = test_df.loc[mask, 'URL'].str.count('=')\n",
    "    test_df.loc[mask, 'NoOfQMarkInURL'] = test_df.loc[mask, 'URL'].str.count(r'\\?')\n",
    "    test_df.loc[mask, 'NoOfAmpersandInURL'] = test_df.loc[mask, 'URL'].str.count('&')\n",
    "    url_lengths = test_df.loc[mask, 'URL'].str.len()\n",
    "    test_df.loc[mask, 'LetterRatioInURL'] = test_df.loc[mask, 'NoOfLettersInURL'] / url_lengths\n",
    "    test_df.loc[mask, 'DegitRatioInURL'] = test_df.loc[mask, 'NoOfDegitsInURL'] / url_lengths\n",
    "    special_chars_pattern = '[^a-zA-Z0-9=?&]'\n",
    "    test_df.loc[mask, 'NoOfOtherSpecialCharsInURL'] = test_df.loc[mask, 'URL'].str.count(special_chars_pattern)\n",
    "    test_df.loc[mask, 'SpacialCharRatioInURL'] = test_df.loc[mask, 'NoOfOtherSpecialCharsInURL'] / url_lengths\n",
    "    char_series = test_df.loc[mask, 'URL']\n",
    "    continuation_rates = []\n",
    "    for url in char_series:\n",
    "        if len(url) < 2:\n",
    "            continuation_rates.append(0)\n",
    "        else:\n",
    "            continuous = sum(1 for i in range(len(url)-1) if url[i] == url[i+1])\n",
    "            continuation_rates.append(continuous / (len(url)-1))\n",
    "    test_df.loc[mask, 'CharContinuationRate'] = continuation_rates\n",
    "\n",
    "if 'Domain' in test_df.columns:\n",
    "    mask = test_df['Domain'].notna()\n",
    "    test_df.loc[mask, 'DomainLength'] = test_df.loc[mask, 'Domain'].str.len()\n",
    "    test_df.loc[mask, 'IsDomainIP'] = test_df.loc[mask, 'Domain'].apply(\n",
    "        lambda x: float(bool(re.match(r'^(?:[0-9]{1,3}\\.){3}[0-9]{1,3}$', str(x)))))\n",
    "    test_df.loc[mask, 'NoOfSubDomain'] = test_df.loc[mask, 'Domain'].str.count(r'\\.')\n",
    "\n",
    "if 'TLD' in test_df.columns:\n",
    "    mask = test_df['TLD'].notna()\n",
    "    test_df.loc[mask, 'TLDLength'] = test_df.loc[mask, 'TLD'].str.len()\n",
    "\n",
    "mask = test_df['NoOfObfuscatedChar'] == 0\n",
    "test_df.loc[mask & test_df['HasObfuscation'].isna(), 'HasObfuscation'] = 0\n",
    "mask = test_df['NoOfObfuscatedChar'] > 0\n",
    "test_df.loc[mask & test_df['HasObfuscation'].isna(), 'HasObfuscation'] = 1\n",
    "\n",
    "mask = test_df['NoOfURLRedirect'].notna() & test_df['NoOfSelfRedirect'].notna()\n",
    "invalid_mask = mask & (test_df['NoOfSelfRedirect'] > test_df['NoOfURLRedirect'])\n",
    "test_df.loc[invalid_mask, 'NoOfSelfRedirect'] = test_df.loc[invalid_mask, 'NoOfURLRedirect']\n",
    "\n",
    "mask = test_df['NoOfExternalRef'] > 0\n",
    "test_df.loc[mask & test_df['HasExternalFormSubmit'].isna(), 'HasExternalFormSubmit'] = 1\n",
    "mask = test_df['NoOfExternalRef'] == 0\n",
    "test_df.loc[mask & test_df['HasExternalFormSubmit'].isna(), 'HasExternalFormSubmit'] = 0\n",
    "\n",
    "mask = test_df['Title'].notna()\n",
    "test_df.loc[mask & test_df['HasTitle'].isna(), 'HasTitle'] = 1\n",
    "test_df.loc[~mask & test_df['HasTitle'].isna(), 'HasTitle'] = 0\n",
    "\n",
    "boolean_cols = ['IsDomainIP', 'HasObfuscation', 'IsHTTPS', 'HasTitle',\n",
    "                'HasFavicon', 'IsResponsive', 'HasDescription',\n",
    "                'HasExternalFormSubmit', 'HasSocialNet', 'HasSubmitButton',\n",
    "                'HasHiddenFields', 'HasPasswordField', 'HasCopyrightInfo']\n",
    "\n",
    "count_cols = ['NoOfSubDomain', 'NoOfObfuscatedChar', 'NoOfLettersInURL',\n",
    "              'NoOfDegitsInURL', 'NoOfEqualsInURL', 'NoOfQMarkInURL', \n",
    "              'NoOfAmpersandInURL', 'NoOfOtherSpecialCharsInURL',\n",
    "              'NoOfURLRedirect', 'NoOfSelfRedirect', 'NoOfPopup',\n",
    "              'NoOfiFrame', 'NoOfImage', 'NoOfCSS', 'NoOfJS',\n",
    "              'NoOfSelfRef', 'NoOfEmptyRef', 'NoOfExternalRef']\n",
    "\n",
    "for col in boolean_cols:\n",
    "    if col in test_df.columns and test_df[col].isnull().any():\n",
    "        test_df[col] = test_df[col].fillna(test_df[col].mode()[0])\n",
    "\n",
    "for col in count_cols:\n",
    "    if col in test_df.columns and test_df[col].isnull().any():\n",
    "        test_df[col] = test_df[col].fillna(test_df[col].median())\n",
    "\n",
    "numerical_cols = test_df.select_dtypes(include=['float64', 'int64']).columns\n",
    "remaining_cols = [col for col in numerical_cols if col not in boolean_cols + count_cols]\n",
    "for col in remaining_cols:\n",
    "    if test_df[col].isnull().any():\n",
    "        test_df[col] = test_df[col].fillna(test_df[col].median())\n",
    "\n",
    "print(\"\\nJumlah missing values setelah diisi:\")\n",
    "print(test_df.isnull().sum())\n"
   ]
  },
  {
   "cell_type": "markdown",
   "metadata": {},
   "source": [
    "### Feature Engineering"
   ]
  },
  {
   "cell_type": "code",
   "execution_count": null,
   "metadata": {},
   "outputs": [],
   "source": [
    "# Buat fitur baru dari karakteristik URL\n",
    "if 'URL' in test_df.columns:\n",
    "   # Hitung karakter spesial\n",
    "   test_df['special_char_count'] = test_df['URL'].str.count(r'[^a-zA-Z0-9]').fillna(0)\n",
    "   # Hitung digit\n",
    "   test_df['digit_count'] = test_df['URL'].str.count(r'[0-9]').fillna(0)\n",
    "\n",
    "# Buat fitur interaksi\n",
    "if 'URLLength' in test_df.columns and 'DomainLength' in test_df.columns:\n",
    "   test_df['url_domain_ratio'] = test_df['URLLength'] / test_df['DomainLength'].replace(0, 1)\n",
    "\n",
    "# Buat fitur binary dari TLD\n",
    "if 'TLD' in test_df.columns:\n",
    "   common_tlds = ['com', 'org', 'net', 'edu']\n",
    "   test_df['is_common_tld'] = test_df['TLD'].isin(common_tlds).astype(int)\n",
    "\n",
    "# Buat aggregate features\n",
    "security_cols = ['HasObfuscation', 'IsHTTPS', 'HasHiddenFields']\n",
    "test_df['security_score'] = test_df[security_cols].sum(axis=1)\n",
    "\n",
    "# Cek fitur baru\n",
    "print(\"\\nJumlah kolom setelah feature engineering:\", len(test_df.columns))\n",
    "print(\"\\nBeberapa baris dengan fitur baru:\")\n",
    "print(test_df[['special_char_count', 'digit_count', 'url_domain_ratio',\n",
    "          'is_common_tld', 'security_score']].head())"
   ]
  },
  {
   "cell_type": "code",
   "execution_count": null,
   "metadata": {},
   "outputs": [],
   "source": [
    "# Define the features to drop with reasons\n",
    "features_to_drop = {\n",
    "    #korelasi tinggi\n",
    "    'NoOfLettersInURL': 'almost perfect correlation sama URLLength (0.998)',\n",
    "    'NoOfOtherSpecialCharsInURL': 'strong correlation URLLength (0.876)',\n",
    "    'DomainLength': 'strong correlation URLLength (0.845)',\n",
    "    \n",
    "    # varianceny 0, ga contribute ke modeling\n",
    "    'NoOfObfuscatedChar': 'konstan, std 0',\n",
    "    'URLTitleMatchScore': 'konstan, std 0',\n",
    "    'NoOfURLRedirect': 'konstan, std 0',\n",
    "    'ObfuscationRatio': 'konstan, std 0',\n",
    "    'DomainTitleMatchScore': 'konstan, std 0',\n",
    "    'DegitRatioInURL': 'konstan, std 0',\n",
    "    'NoOfEqualsInURL': 'konstan, std 0',\n",
    "    'HasObfuscation': 'konstan, std 0',\n",
    "    'NoOfSelfRedirect': 'konstan, std 0',\n",
    "    'NoOfPopup': 'konstan, std 0',\n",
    "    'NoOfQMarkInURL': 'konstan, std 0',\n",
    "    'NoOfAmpersandInURL': 'konstan, std 0',\n",
    "    'NoOfDegitsInURL': 'konstan, std 0',\n",
    "    'NoOfSubDomain': 'konstan, std 0',\n",
    "    \n",
    "    # uda kegambarin di feature lain/raw text\n",
    "    'Domain': 'raw text',\n",
    "    'URL': 'raw text',\n",
    "    'Title': 'raw text',\n",
    "    'LetterRatioInURL': 'derived',\n",
    "    'SpacialCharRatioInURL': 'derived',\n",
    "    \n",
    "    # missing too much, low mi\n",
    "    'NoOfCSS': 'High missing values, low importance',\n",
    "    'HasCopyrightInfo': 'High missing values, low importance',\n",
    "    'HasPasswordField': 'High missing values, low importance',\n",
    "    'HasSocialNet': 'High missing values, low importance',\n",
    "    'NoOfExternalRef': 'High missing, info captured in HasExternalFormSubmit'\n",
    "}\n",
    "\n",
    "#drop\n",
    "test_df = test_df.drop(columns=list(features_to_drop.keys()), errors='ignore')\n",
    "\n",
    "#same columns\n",
    "common_columns = test_df.columns.intersection(val_set.columns)\n",
    "test_df = test_df[common_columns]\n",
    "\n",
    "#verify\n",
    "print(\"\\nnumber of remaining features:\", len(test_df.columns))\n",
    "print(\"training set:\", test_df.columns.tolist())\n",
    "\n",
    "\n",
    "# shapess\n",
    "print(\"\\nNew shapes:\")\n",
    "print(f\"training set: {test_df.shape}\")\n"
   ]
  },
  {
   "cell_type": "code",
   "execution_count": 43,
   "metadata": {},
   "outputs": [],
   "source": [
    "def engineer_features(dataset):\n",
    "    features = dataset.copy()\n",
    "    \n",
    "    # ui content - ngambil juga dari tucil\n",
    "    ui_features = ['HasFavicon',  'HasSubmitButton', 'HasTitle', 'HasDescription', 'IsResponsive']\n",
    "    features['UIQualityScore'] = features[ui_features].sum(axis=1)\n",
    "    \n",
    "    # terkait duit n pembayaran\n",
    "    financial_features = ['Bank', 'Pay', 'Crypto']\n",
    "    features['FinancialRiskScore'] = (\n",
    "        features[financial_features].sum(axis=1) * \n",
    "        (1 - features['IsHTTPS'])  #kalo ga https worse\n",
    "    )\n",
    "    \n",
    "    # domain\n",
    "    features['DomainTrustScore'] = (\n",
    "        features['TLDLegitimateProb'] * \n",
    "        (1 + features['IsHTTPS']) *  #kalo https kasi plus\n",
    "        (1 - features['IsDomainIP'])  #kalo domainnya ip = veri sus kurangin\n",
    "    )\n",
    "    \n",
    "    # kompleksitas code\n",
    "    features['ContentComplexity'] = (\n",
    "        np.log1p(features['LineOfCode']) * \n",
    "        np.log1p(features['LargestLineLength'])\n",
    "    )\n",
    "    \n",
    "    # ref pattern\n",
    "    features['RefPatternScore'] = (\n",
    "        features['NoOfSelfRef'] / \n",
    "        (features['NoOfSelfRef'] + features['NoOfEmptyRef']).clip(lower=1)\n",
    "    )\n",
    "    \n",
    "    return features\n",
    "\n",
    "test_df_engineered = engineer_features(test_df)\n",
    "\n",
    "test_df = test_df_engineered\n",
    "\n",
    "new_features = [\n",
    "    'UIQualityScore',\n",
    "    'FinancialRiskScore',\n",
    "    'DomainTrustScore',\n",
    "    'ContentComplexity',\n",
    "    'RefPatternScore'\n",
    "]\n"
   ]
  },
  {
   "cell_type": "code",
   "execution_count": null,
   "metadata": {},
   "outputs": [],
   "source": [
    "test_df = test_df.drop(columns = ['DomainTrustScore', 'FinancialRiskScore'])\n",
    "test_df.info()\n"
   ]
  },
  {
   "cell_type": "markdown",
   "metadata": {
    "id": "9A3adbZXLfHe"
   },
   "source": [
    "# 4. Modeling and Validation\n",
    "\n",
    "Modelling is the process of building your own machine learning models to solve specific problems, or in this assignment context, predicting the target feature `label`. Validation is the process of evaluating your trained model using the validation set or cross-validation method and providing some metrics that can help you decide what to do in the next iteration of development."
   ]
  },
  {
   "cell_type": "markdown",
   "metadata": {
    "id": "ZnhMNbBILfHf"
   },
   "source": [
    "## A. KNN"
   ]
  },
  {
   "cell_type": "markdown",
   "metadata": {},
   "source": [
    "### From Scratch"
   ]
  },
  {
   "cell_type": "code",
   "execution_count": 45,
   "metadata": {},
   "outputs": [],
   "source": [
    "class KNNClassifier(BaseEstimator):\n",
    "    def __init__(self, k=3, metric='euclidean', p=2):\n",
    "        self.k = k\n",
    "        self.metric = metric\n",
    "        self.p = p\n",
    "\n",
    "    def fit(self, X, y):\n",
    "        self.X_train = X.to_numpy()\n",
    "        self.y_train = y.to_numpy()\n",
    "        return self\n",
    "\n",
    "    def _euclidean_distance(self, x1, x2):\n",
    "        return np.sqrt(np.sum((x1 - x2) ** 2))\n",
    "\n",
    "    def _manhattan_distance(self, x1, x2):\n",
    "        return np.sum(np.abs(x1 - x2))\n",
    "\n",
    "    def _minkowski_distance(self, x1, x2, p):\n",
    "        return np.power(np.sum(np.power(np.abs(x1 - x2), p)), 1 / p)\n",
    "\n",
    "    def _calculate_distances(self, x_test):\n",
    "        distances = []\n",
    "        for x_train in self.X_train:\n",
    "            if self.metric == 'euclidean':\n",
    "                dist = self._euclidean_distance(x_test, x_train)\n",
    "            elif self.metric == 'manhattan':\n",
    "                dist = self._manhattan_distance(x_test, x_train)\n",
    "            elif self.metric == 'minkowski':\n",
    "                dist = self._minkowski_distance(x_test, x_train, self.p)\n",
    "            else:\n",
    "                raise ValueError(\"Invalid metric. Use 'euclidean', 'manhattan', or 'minkowski'.\")\n",
    "            distances.append(dist)\n",
    "        return np.array(distances)\n",
    "\n",
    "    def _get_neighbors(self, x_test):\n",
    "        distances = self._calculate_distances(x_test)\n",
    "        k_indices = np.argsort(distances)[:self.k]\n",
    "        return self.y_train[k_indices]\n",
    "\n",
    "    def _get_majority_vote(self, labels):\n",
    "        labels = list(labels)\n",
    "        unique_labels = list(set(labels))\n",
    "        votes = [labels.count(label) for label in unique_labels]\n",
    "        return unique_labels[np.argmax(votes)]\n",
    "\n",
    "    def predict(self, X):\n",
    "        X_test = X.to_numpy()\n",
    "        predictions = []\n",
    "        for x in X_test:\n",
    "            neighbors = self._get_neighbors(x)\n",
    "            majority_label = self._get_majority_vote(neighbors)\n",
    "            predictions.append(majority_label)\n",
    "        return np.array(predictions)"
   ]
  },
  {
   "cell_type": "markdown",
   "metadata": {},
   "source": [
    "### From Scikit-Learn"
   ]
  },
  {
   "cell_type": "code",
   "execution_count": 46,
   "metadata": {
    "id": "KV6ICmFmlqjk"
   },
   "outputs": [],
   "source": [
    "knn_scikit = KNeighborsClassifier(n_neighbors=5)"
   ]
  },
  {
   "cell_type": "markdown",
   "metadata": {
    "id": "nW0bMzkDLfHf"
   },
   "source": [
    "## B. Naive Bayes"
   ]
  },
  {
   "cell_type": "markdown",
   "metadata": {},
   "source": [
    "### From Scratch"
   ]
  },
  {
   "cell_type": "code",
   "execution_count": 47,
   "metadata": {},
   "outputs": [],
   "source": [
    "class GaussianNaiveBayes(BaseEstimator):\n",
    "    def fit(self, X, y):\n",
    "        self.classes = np.unique(y)\n",
    "        self.mean_std = {}\n",
    "        self.prior = {}\n",
    "\n",
    "        for c in self.classes:\n",
    "            X_c = X[y == c]\n",
    "            self.mean_std[c] = {\n",
    "                'mean': np.mean(X_c, axis=0),\n",
    "                'std': np.where(np.std(X_c, axis=0) == 0, 1e-6, np.std(X_c, axis=0))\n",
    "            }\n",
    "            self.prior[c] = len(X_c) / len(y)\n",
    "        return self\n",
    "\n",
    "    def _gaussian_probability(self, x, mean, std):\n",
    "        epsilon = 1e-9\n",
    "        exponent = np.exp(-((x - mean) ** 2) / (2 * std ** 2))\n",
    "        prob = exponent / (np.sqrt(2 * np.pi) * std)\n",
    "        return np.maximum(prob, epsilon)\n",
    "\n",
    "    def _predict_sample(self, x):\n",
    "        probabilities = {}\n",
    "        for c in self.classes:\n",
    "            prior = np.log(self.prior[c])\n",
    "            mean = self.mean_std[c]['mean']\n",
    "            std = self.mean_std[c]['std']\n",
    "            likelihood = np.sum(np.log(self._gaussian_probability(x, mean, std)))\n",
    "            probabilities[c] = prior + likelihood\n",
    "        return max(probabilities, key=probabilities.get)\n",
    "\n",
    "    def predict(self, X):\n",
    "        return np.array([self._predict_sample(x) for x in X])\n"
   ]
  },
  {
   "cell_type": "markdown",
   "metadata": {},
   "source": [
    "### From Scikit-Learn"
   ]
  },
  {
   "cell_type": "code",
   "execution_count": 48,
   "metadata": {
    "id": "C_XwsN_-LfHg"
   },
   "outputs": [],
   "source": [
    "nb_scikit = GaussianNB()"
   ]
  },
  {
   "cell_type": "markdown",
   "metadata": {},
   "source": [
    "## Train and Evaluate"
   ]
  },
  {
   "cell_type": "code",
   "execution_count": null,
   "metadata": {},
   "outputs": [],
   "source": [
    "train_preprocessed = pipe.fit_transform(train_set)\n",
    "val_preprocessed = pipe.transform(val_set)\n",
    "\n",
    "X_train = train_preprocessed.drop(columns=['label', 'id'])\n",
    "y_train = train_preprocessed['label']\n",
    "X_val = val_preprocessed.drop(columns=['label', 'id'])\n",
    "y_val = val_preprocessed['label']"
   ]
  },
  {
   "cell_type": "markdown",
   "metadata": {},
   "source": [
    "### KNN"
   ]
  },
  {
   "cell_type": "code",
   "execution_count": null,
   "metadata": {},
   "outputs": [],
   "source": [
    "X_train_small, X_unused, y_train_small, y_unused = train_test_split(\n",
    "    X_train, y_train, test_size=99, random_state=42\n",
    ")\n",
    "\n",
    "knn = KNNClassifier(k=5, metric='euclidean')\n",
    "knn.fit(X_train_small, y_train_small)\n",
    "knn_scratch_predictions = knn.predict(X_val)"
   ]
  },
  {
   "cell_type": "code",
   "execution_count": 366,
   "metadata": {},
   "outputs": [],
   "source": [
    "knn_scikit.fit(X_train, y_train)\n",
    "knn_scikit_predictions = knn_scikit.predict(X_val)"
   ]
  },
  {
   "cell_type": "code",
   "execution_count": null,
   "metadata": {},
   "outputs": [],
   "source": [
    "# Save model\n",
    "pickle.dump(knn_scikit, open('knn_scikit_model.pkl', 'wb'))\n",
    "print(\"KNN Scikit-Learn model saved!\")\n",
    "\n",
    "# Load model\n",
    "loaded_knn_scikit = pickle.load(open('knn_scikit_model.pkl', 'rb'))\n",
    "print(\"KNN Scikit-Learn model loaded!\")"
   ]
  },
  {
   "cell_type": "code",
   "execution_count": null,
   "metadata": {},
   "outputs": [],
   "source": [
    "print(classification_report(y_val, knn_scikit_predictions))\n",
    "\n",
    "loaded_knn_scikit_predictions = loaded_knn_scikit.predict(X_val)\n",
    "print(classification_report(y_val, loaded_knn_scikit_predictions))"
   ]
  },
  {
   "cell_type": "markdown",
   "metadata": {},
   "source": [
    "### Naive Bayes"
   ]
  },
  {
   "cell_type": "code",
   "execution_count": 51,
   "metadata": {},
   "outputs": [],
   "source": [
    "nb = GaussianNaiveBayes()\n",
    "nb.fit(X_train.values, y_train.values)\n",
    "nb_scratch_predictions = nb.predict(X_val.values)\n",
    "\n"
   ]
  },
  {
   "cell_type": "code",
   "execution_count": null,
   "metadata": {},
   "outputs": [],
   "source": [
    "# Save  model\n",
    "pickle.dump(nb, open('nb_from_scratch_model.pkl', 'wb'))\n",
    "print(\"Naive Bayes From Scratch model saved!\")\n",
    "\n",
    "# Load model\n",
    "loaded_nb = pickle.load(open('nb_from_scratch_model.pkl', 'rb'))\n",
    "print(\"Naive Bayes From Scratch model loaded!\")"
   ]
  },
  {
   "cell_type": "code",
   "execution_count": null,
   "metadata": {},
   "outputs": [],
   "source": [
    "print(classification_report(y_val, nb_scratch_predictions))\n",
    "\n",
    "loaded_nb_from_scratch_predictions = loaded_nb.predict(X_val.values)\n",
    "print(classification_report(y_val, loaded_nb_from_scratch_predictions))"
   ]
  },
  {
   "cell_type": "code",
   "execution_count": 54,
   "metadata": {},
   "outputs": [],
   "source": [
    "nb_scikit.fit(X_train, y_train)\n",
    "nb_scikit_predictions = nb_scikit.predict(X_val)\n",
    "\n"
   ]
  },
  {
   "cell_type": "code",
   "execution_count": null,
   "metadata": {},
   "outputs": [],
   "source": [
    "# Save  model\n",
    "pickle.dump(nb_scikit, open('nb_scikit_model.pkl', 'wb'))\n",
    "print(\"Naive Bayes Scikit-Learn model saved!\")\n",
    "\n",
    "# Load model\n",
    "loaded_nb_scikit = pickle.load(open('nb_scikit_model.pkl', 'rb'))\n",
    "print(\"Naive Bayes Scikit-Learn model loaded!\")"
   ]
  },
  {
   "cell_type": "code",
   "execution_count": null,
   "metadata": {},
   "outputs": [],
   "source": [
    "print(classification_report(y_val, nb_scikit_predictions))\n",
    "\n",
    "loaded_nb_scikit_predictions = loaded_nb_scikit.predict(X_val)\n",
    "print(classification_report(y_val, loaded_nb_scikit_predictions))"
   ]
  },
  {
   "cell_type": "markdown",
   "metadata": {
    "id": "LoH2u6fOLfHh"
   },
   "source": [
    "## C. Improvements (Optional)\n",
    "\n",
    "- **Visualize the model evaluation result**\n",
    "\n",
    "This will help you to understand the details more clearly about your model's performance. From the visualization, you can see clearly if your model is leaning towards a class than the others. (Hint: confusion matrix, ROC-AUC curve, etc.)\n",
    "\n",
    "- **Explore the hyperparameters of your models**\n",
    "\n",
    "Each models have their own hyperparameters. And each of the hyperparameter have different effects on the model behaviour. You can optimize the model performance by finding the good set of hyperparameters through a process called **hyperparameter tuning**. (Hint: Grid search, random search, bayesian optimization)\n",
    "\n",
    "- **Cross-validation**\n",
    "\n",
    "Cross-validation is a critical technique in machine learning and data science for evaluating and validating the performance of predictive models. It provides a more **robust** and **reliable** evaluation method compared to a hold-out (single train-test set) validation. Though, it requires more time and computing power because of how cross-validation works. (Hint: k-fold cross-validation, stratified k-fold cross-validation, etc.)"
   ]
  },
  {
   "cell_type": "markdown",
   "metadata": {
    "id": "Li4l53DjLfHh"
   },
   "source": [
    "## D. Submission\n",
    "To predict the test set target feature and submit the results to the kaggle competition platform, do the following:\n",
    "1. Create a new pipeline instance identical to the first in Data Preprocessing\n",
    "2. With the pipeline, apply `fit_transform` to the original training set before splitting, then only apply `transform` to the test set.\n",
    "3. Retrain the model on the preprocessed training set\n",
    "4. Predict the test set\n",
    "5. Make sure the submission contains the `id` and `label` column.\n",
    "\n",
    "Note: Adjust step 1 and 2 to your implementation of the preprocessing step if you don't use pipeline API from `sklearn`."
   ]
  },
  {
   "cell_type": "code",
   "execution_count": 376,
   "metadata": {},
   "outputs": [],
   "source": [
    "pipe_test = Pipeline([\n",
    "    (\"frequency_encoder\", FrequencyEncoder(columns=[\"TLD\"], drop_original=True)),\n",
    "    (\"scaler_minmax\", NumericMinMaxScaler())\n",
    "])\n",
    "\n",
    "train_set_preprocessed = pipe_test.fit_transform(train_set)\n",
    "\n",
    "test_df = pipe_test.transform(test_df)\n"
   ]
  },
  {
   "cell_type": "code",
   "execution_count": 384,
   "metadata": {},
   "outputs": [],
   "source": [
    "X_test = test_df.drop(columns=['id'])\n",
    "\n",
    "nb_scratch_predictions = nb.predict(X_test.values)"
   ]
  },
  {
   "cell_type": "code",
   "execution_count": 385,
   "metadata": {
    "id": "LeqnfWc-LfHi"
   },
   "outputs": [],
   "source": [
    "timestamp = datetime.now().strftime('%Y%m%d_%H%M%S')\n",
    "\n",
    "filename = f'submission_{timestamp}.csv'\n",
    "\n",
    "submission = pd.DataFrame({\n",
    "    'id': test_df['id'],\n",
    "    'label': nb_scratch_predictions\n",
    "})\n",
    "submission.to_csv(filename, index=False)"
   ]
  },
  {
   "cell_type": "markdown",
   "metadata": {
    "id": "R-jXvKOpLfHi"
   },
   "source": [
    "# 6. Error Analysis\n",
    "\n",
    "Based on all the process you have done until the modeling and evaluation step, write an analysis to support each steps you have taken to solve this problem. Write the analysis using the markdown block. Some questions that may help you in writing the analysis:\n",
    "\n",
    "- Does my model perform better in predicting one class than the other? If so, why is that?\n",
    "- To each models I have tried, which performs the best and what could be the reason?\n",
    "- Is it better for me to impute or drop the missing data? Why?\n",
    "- Does feature scaling help improve my model performance?\n",
    "- etc..."
   ]
  },
  {
   "cell_type": "markdown",
   "metadata": {
    "id": "tWL3nEAELfHj"
   },
   "source": [
    "`Provide your analysis here`"
   ]
  },
  {
   "cell_type": "markdown",
   "metadata": {},
   "source": [
    "Does my model perform better in predicting one class than the other? If so, why is that?"
   ]
  },
  {
   "cell_type": "markdown",
   "metadata": {},
   "source": [
    "Berdasarkan hasil evaluasi model, terdapat perbedaan performa dalam memprediksi kelas yang berbeda. Hal ini dapat disebabkan oleh ketidakseimbangan data yang dimiliki, dalam hal ini dataset didominasi oleh kelas 1 (website legitmate) yang menyebabkan model memiliki lebih banyak contoh untuk mempelajari website legitmate, walaupun telah dilakukan SMOTE-Tomek untuk mengatasinya, efeknya masih terlihat. Selain itu, karakteristik dari fitur juga berpengaruh, angka precision 1.00 untuk kelas 1 menunjukkan bahwa fitur-fitur website legitmate lebih konsisten dan mudah untuk diidentifikasi dibandingkan dengan kelas 0 yang mendapat precision yang lebih rendah."
   ]
  },
  {
   "cell_type": "markdown",
   "metadata": {},
   "source": [
    "To each models I have tried, which performs the best and what could be the reason?"
   ]
  },
  {
   "cell_type": "markdown",
   "metadata": {},
   "source": [
    "Berdasarkan skor kaggle terbaik yang didapatkan dengan model tanpa outlier handling (0.92), didapatkan bahwa model terbaik adalah Naive Bayes (tanpa outlier handling). Hal ini karena performa yang konsisten yaitu accuracy, precision, recall, dan F1 score diatas 0.94, mampu mempertahakan performa baik serta tidak menunjukkan tanda-tanda overfitting seperti pada versi dengan outlier handling, dan tidak memerlukan preprocessing outlier yang kompleks yang berarti lebih cepat dan sederhana dalam implementasinya."
   ]
  },
  {
   "cell_type": "markdown",
   "metadata": {},
   "source": [
    "Is it better for me to impute or drop the missing data? Why?"
   ]
  },
  {
   "cell_type": "markdown",
   "metadata": {},
   "source": [
    "Keputusan untuk impute ataupun drop missing data tergantung pada berbagai faktor, ketika missing value sangat sedikit dan sampel masih cukup besar setelah data didrop, maka menghapus data tidak masalah. Selain itu, beberapa alasan lain untuk melakuakn drop pada missing data adalah jika missing value terjadi secara completely random (MCAR) dan juga data yang hilang tidak terlalu penting. Ketika missing value berjumlah cukup besar dan ketika dihapus akan mengurangi jumlah sampel dengan cukup signifikan maka akan lebih baik untuk melakukan drop pada data dan juga apabila missing value memiliki pola tertentu serta variabel yang hilang merupakan variabel yang penting maka akan lebih baik untuk melakukan impute pada missing value. Dikarenakan persentase missing values pada tiap kolom cukup besar, kami memutuskan untuk melakukan impute pada missing value."
   ]
  },
  {
   "cell_type": "markdown",
   "metadata": {},
   "source": [
    "Does feature scaling help improve my model performance?"
   ]
  },
  {
   "cell_type": "markdown",
   "metadata": {},
   "source": [
    "Feature scaling dapat membantu beberapa performa model - model tertentu. Pada kasus KNN, feature scaling sangat membantu performa model karena model KNN berbasis jarak, sehingga scaling akan membuat jarak di setiap fitur menjadi sama. Hal ini juga terlihat setelah melakukan testing dimana akurasi model yang mencapai 98% saat menggunakan feature scaling, sedangkan jika tidak menggunakan feature scaling, akurasi model hanya 79%. Berbeda hal dengan kasus Naive Bayes, feature scaling tidak terlalu membantu performa model. Hal ini dikarenakan model Naive Bayes tidak berbasis jarak atau magnitudo fitur . Setelah melakukan testing, akurasi model menggunakan feature scaling adalah 96% sedangkan tanpa feature scaling adalah 94%. "
   ]
  }
 ],
 "metadata": {
  "colab": {
   "provenance": []
  },
  "kernelspec": {
   "display_name": "Python 3",
   "language": "python",
   "name": "python3"
  },
  "language_info": {
   "codemirror_mode": {
    "name": "ipython",
    "version": 3
   },
   "file_extension": ".py",
   "mimetype": "text/x-python",
   "name": "python",
   "nbconvert_exporter": "python",
   "pygments_lexer": "ipython3",
   "version": "3.13.0"
  }
 },
 "nbformat": 4,
 "nbformat_minor": 0
}
